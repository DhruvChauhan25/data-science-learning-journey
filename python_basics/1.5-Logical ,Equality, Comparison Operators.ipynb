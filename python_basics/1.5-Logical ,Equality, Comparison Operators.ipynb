{
 "cells": [
  {
   "cell_type": "markdown",
   "id": "8321fb35",
   "metadata": {},
   "source": [
    "# If _else condition"
   ]
  },
  {
   "cell_type": "code",
   "execution_count": 3,
   "id": "38758601",
   "metadata": {},
   "outputs": [
    {
     "name": "stdout",
     "output_type": "stream",
     "text": [
      "If case true hua\n"
     ]
    }
   ],
   "source": [
    "Class_started=True\n",
    "if Class_started:\n",
    "    print(\"If case true hua\")"
   ]
  },
  {
   "cell_type": "code",
   "execution_count": 4,
   "id": "b6643c3e",
   "metadata": {},
   "outputs": [
    {
     "name": "stdout",
     "output_type": "stream",
     "text": [
      "If case false hua\n"
     ]
    }
   ],
   "source": [
    "Class_started=False\n",
    "if Class_started:\n",
    "    print(\"If case true hua\")\n",
    "else:\n",
    "    print(\"If case false hua\")    "
   ]
  },
  {
   "cell_type": "markdown",
   "id": "8214cb9b",
   "metadata": {},
   "source": [
    "# Logical Operators"
   ]
  },
  {
   "cell_type": "code",
   "execution_count": 7,
   "id": "102bf160",
   "metadata": {},
   "outputs": [
    {
     "name": "stdout",
     "output_type": "stream",
     "text": [
      "not raining\n"
     ]
    }
   ],
   "source": [
    "raining=True\n",
    "if not raining: #false condition\n",
    "    print(\"not raining\")\n",
    "else:\n",
    "    print(\"it's raining\")"
   ]
  },
  {
   "cell_type": "code",
   "execution_count": 8,
   "id": "30edab6e",
   "metadata": {},
   "outputs": [
    {
     "name": "stdout",
     "output_type": "stream",
     "text": [
      "state True or FalseTrue\n",
      "Shuru bho gayi\n"
     ]
    }
   ],
   "source": [
    "class_begin=bool(input(\"state True/1 or False/ 0 \"))\n",
    "if class_begin:\n",
    "    print(\"Shuru ho gayi\")\n",
    "else:\n",
    "    print(\"nahi hui\")"
   ]
  },
  {
   "cell_type": "markdown",
   "id": "83d6c3f7",
   "metadata": {},
   "source": [
    "# And condition"
   ]
  },
  {
   "cell_type": "code",
   "execution_count": 9,
   "id": "f961d213",
   "metadata": {},
   "outputs": [
    {
     "name": "stdout",
     "output_type": "stream",
     "text": [
      "bad dish because False\n"
     ]
    }
   ],
   "source": [
    "veggie=False\n",
    "salt=False\n",
    "if veggie and salt:\n",
    "    print(\"good dish\")\n",
    "else:\n",
    "    print(f\"bad dish because {salt}\")"
   ]
  },
  {
   "cell_type": "markdown",
   "id": "3cc5b35e",
   "metadata": {},
   "source": [
    "# OR condition"
   ]
  },
  {
   "cell_type": "code",
   "execution_count": 10,
   "id": "d8084272",
   "metadata": {},
   "outputs": [
    {
     "name": "stdout",
     "output_type": "stream",
     "text": [
      "hai ek true\n"
     ]
    }
   ],
   "source": [
    "veg=True\n",
    "non_veg=False\n",
    "if veg or non_veg:\n",
    "    print(\"hai ek true\")\n",
    "else:\n",
    "    print(\"nahi hai 1 bhi true\")"
   ]
  },
  {
   "cell_type": "code",
   "execution_count": 15,
   "id": "4cc3303c",
   "metadata": {},
   "outputs": [
    {
     "name": "stdout",
     "output_type": "stream",
     "text": [
      "75\n",
      "72\n",
      "betho xam mai True\n"
     ]
    }
   ],
   "source": [
    "attendance=int(input())\n",
    "assignment=int(input())\n",
    "if attendance>=75 and assignment>=70:\n",
    "    print(f\"betho xam mai {attendance>=75}\") #Condition daaloge toh true bhi btayega\n",
    "else:\n",
    "    print(\"nahi beth skte xam mai\")"
   ]
  },
  {
   "cell_type": "markdown",
   "id": "e26bd279",
   "metadata": {},
   "source": [
    "# And Or dono lgaye"
   ]
  },
  {
   "cell_type": "code",
   "execution_count": 1,
   "id": "9f6325de",
   "metadata": {},
   "outputs": [
    {
     "name": "stdout",
     "output_type": "stream",
     "text": [
      "75\n",
      "75\n",
      "betho xam mai True\n"
     ]
    }
   ],
   "source": [
    "attendance=int(input())\n",
    "assignment=int(input())\n",
    "sports=True\n",
    "if attendance>=75 and assignment>=70:\n",
    "    if sports:  #Or vaala case bnega yeh\n",
    "        print(f\"betho xam mai {attendance>=75}\") #Condition daaloge toh true bhi btayega\n",
    "    else:\n",
    "        print(\"Paper de paayega\")\n",
    "else:\n",
    "    print(\"nahi beth skte xam mai\")\n"
   ]
  },
  {
   "cell_type": "markdown",
   "id": "8a6d87ae",
   "metadata": {},
   "source": [
    "# EQUALITY OPERATOR"
   ]
  },
  {
   "cell_type": "code",
   "execution_count": 4,
   "id": "1c717fbe",
   "metadata": {},
   "outputs": [
    {
     "name": "stdout",
     "output_type": "stream",
     "text": [
      "A and B is not same\n"
     ]
    }
   ],
   "source": [
    "#IS-->> operator\n",
    "A=1\n",
    "B=2\n",
    "if A is B:\n",
    "    print(\"A and B are same\")\n",
    "else:\n",
    "    print(\"A and B is not same\")\n"
   ]
  },
  {
   "cell_type": "code",
   "execution_count": 5,
   "id": "be21069a",
   "metadata": {},
   "outputs": [
    {
     "name": "stdout",
     "output_type": "stream",
     "text": [
      "A and B are same\n"
     ]
    }
   ],
   "source": [
    "#IS NOT-->>operator\n",
    "if A is not B:\n",
    "    print(\"A and B are same\")\n",
    "else:\n",
    "    print(\"A and B is not same\")"
   ]
  },
  {
   "cell_type": "code",
   "execution_count": 6,
   "id": "13a503b9",
   "metadata": {},
   "outputs": [],
   "source": [
    "#==-->> Operator\n",
    "#!=--> operator"
   ]
  },
  {
   "cell_type": "code",
   "execution_count": 7,
   "id": "296db4f2",
   "metadata": {},
   "outputs": [
    {
     "name": "stdout",
     "output_type": "stream",
     "text": [
      "A and B are same\n"
     ]
    }
   ],
   "source": [
    "A=\"Dhruv\"\n",
    "B=\"Dhruv\"\n",
    "if A is B:\n",
    "    print(\"A and B are same\")\n",
    "else:\n",
    "    print(\"A and B is not same\")\n"
   ]
  },
  {
   "cell_type": "code",
   "execution_count": 13,
   "id": "2d87c3a1",
   "metadata": {},
   "outputs": [
    {
     "name": "stdout",
     "output_type": "stream",
     "text": [
      "true\n",
      "2661095812288\n",
      "2661095812032\n"
     ]
    }
   ],
   "source": [
    "A=[\"Dhruv\",\"Aashish\"] #List data structure #array is other language\n",
    "B=[\"Dhruv\",\"Aashish\"]\n",
    "if A==B:\n",
    "    print(\"true\")\n",
    "print(id(A))\n",
    "print(id(B))"
   ]
  },
  {
   "cell_type": "code",
   "execution_count": 14,
   "id": "4644e31f",
   "metadata": {},
   "outputs": [
    {
     "name": "stdout",
     "output_type": "stream",
     "text": [
      "Enter the value1\n"
     ]
    },
    {
     "data": {
      "text/plain": [
       "True"
      ]
     },
     "execution_count": 14,
     "metadata": {},
     "output_type": "execute_result"
    }
   ],
   "source": [
    "a=int(input(\"Enter the value\"))\n",
    "b=1\n",
    "a is b"
   ]
  },
  {
   "cell_type": "markdown",
   "id": "20774bf6",
   "metadata": {},
   "source": [
    "# COMPARISON "
   ]
  },
  {
   "cell_type": "code",
   "execution_count": null,
   "id": "6a285d13",
   "metadata": {},
   "outputs": [],
   "source": [
    "# > | < | >= | <="
   ]
  }
 ],
 "metadata": {
  "kernelspec": {
   "display_name": "Python 3 (ipykernel)",
   "language": "python",
   "name": "python3"
  },
  "language_info": {
   "codemirror_mode": {
    "name": "ipython",
    "version": 3
   },
   "file_extension": ".py",
   "mimetype": "text/x-python",
   "name": "python",
   "nbconvert_exporter": "python",
   "pygments_lexer": "ipython3",
   "version": "3.9.7"
  }
 },
 "nbformat": 4,
 "nbformat_minor": 5
}
