{
 "cells": [
  {
   "cell_type": "markdown",
   "id": "88e6e295",
   "metadata": {},
   "source": [
    "# Lists"
   ]
  },
  {
   "cell_type": "code",
   "execution_count": 6,
   "id": "f8d9722e",
   "metadata": {},
   "outputs": [
    {
     "name": "stdout",
     "output_type": "stream",
     "text": [
      "1\n",
      "2\n",
      "3\n",
      "4\n",
      "5\n",
      "dhruv\n",
      "(5+2j)\n"
     ]
    }
   ],
   "source": [
    "a=[1,2,3,4,5,'dhruv',5+2j]\n",
    "for i in a:\n",
    "    print(i)"
   ]
  },
  {
   "cell_type": "code",
   "execution_count": 7,
   "id": "90756532",
   "metadata": {},
   "outputs": [
    {
     "name": "stdout",
     "output_type": "stream",
     "text": [
      "1\n",
      "2\n",
      "3\n",
      "4\n",
      "5\n",
      "dhruv\n",
      "(5+2j)\n"
     ]
    }
   ],
   "source": [
    "for i in range(len(a)):\n",
    "    print(a[i])"
   ]
  },
  {
   "cell_type": "code",
   "execution_count": 8,
   "id": "2dc593b8",
   "metadata": {},
   "outputs": [
    {
     "name": "stdout",
     "output_type": "stream",
     "text": [
      "Value = 1 and data type is <class 'int'>\n",
      "Value = 2 and data type is <class 'int'>\n",
      "Value = 3 and data type is <class 'int'>\n",
      "Value = 4 and data type is <class 'int'>\n",
      "Value = 5 and data type is <class 'int'>\n",
      "Value = dhruv and data type is <class 'str'>\n",
      "Value = (5+2j) and data type is <class 'complex'>\n"
     ]
    }
   ],
   "source": [
    "for i in range(len(a)):\n",
    "    print(f\"Value = {a[i]} and data type is {type(a[i])}\")"
   ]
  },
  {
   "cell_type": "markdown",
   "id": "9dc47a37",
   "metadata": {},
   "source": [
    "Indexing"
   ]
  },
  {
   "cell_type": "code",
   "execution_count": 9,
   "id": "066c214b",
   "metadata": {},
   "outputs": [
    {
     "name": "stdout",
     "output_type": "stream",
     "text": [
      "[4.0, 'Aashish', (2+6j)]\n"
     ]
    }
   ],
   "source": [
    "#SLICING\n",
    "list=[1,2,3,4.0,'Aashish',2+6j]\n",
    "print(list[3:])"
   ]
  },
  {
   "cell_type": "code",
   "execution_count": 12,
   "id": "d66268e8",
   "metadata": {},
   "outputs": [
    {
     "name": "stdout",
     "output_type": "stream",
     "text": [
      "[1, 3, 'Aashish']\n"
     ]
    }
   ],
   "source": [
    "print(list[0::2]) "
   ]
  },
  {
   "cell_type": "code",
   "execution_count": 33,
   "id": "60f57d9b",
   "metadata": {},
   "outputs": [
    {
     "name": "stdout",
     "output_type": "stream",
     "text": [
      "0 1\n",
      "2 3\n",
      "4 Aashish\n"
     ]
    }
   ],
   "source": [
    "list=[1,2,3,4.5,'Aashish',2+6j,'Vishakha']\n",
    "for i in range(0,6,2):\n",
    "    print(i , list[i])"
   ]
  },
  {
   "cell_type": "code",
   "execution_count": 29,
   "id": "7e503c47",
   "metadata": {},
   "outputs": [
    {
     "name": "stdout",
     "output_type": "stream",
     "text": [
      "-1 (2+6j)\n",
      "-2 Aashish\n",
      "-3 4.5\n",
      "-4 3\n",
      "-5 2\n",
      "-6 1\n"
     ]
    }
   ],
   "source": [
    "for i in range(-1,-len(list)-1,-1):\n",
    "    print(i,list[i])"
   ]
  },
  {
   "cell_type": "code",
   "execution_count": 34,
   "id": "2ca81676",
   "metadata": {},
   "outputs": [
    {
     "name": "stdout",
     "output_type": "stream",
     "text": [
      "2\n",
      "(2+6j)\n",
      "Vishakha\n"
     ]
    }
   ],
   "source": [
    "# print only 1 5 6 value\n",
    "for i in [1,5,6]:\n",
    "    print(list[i])"
   ]
  },
  {
   "cell_type": "markdown",
   "id": "94a18107",
   "metadata": {},
   "source": [
    "UPDATING LIST ELEMENT AT SPECIFIC INDEX"
   ]
  },
  {
   "cell_type": "code",
   "execution_count": 36,
   "id": "90840969",
   "metadata": {},
   "outputs": [
    {
     "name": "stdout",
     "output_type": "stream",
     "text": [
      "[1, 2, 3, 4, 99.0, 'chanda', 'Balloo']\n"
     ]
    }
   ],
   "source": [
    "my=[1,2,3,4,5,'chanda','Balloo']\n",
    "my[4]=99.0 # mutable operation\n",
    "print(my)"
   ]
  },
  {
   "cell_type": "code",
   "execution_count": 37,
   "id": "c2399cf8",
   "metadata": {},
   "outputs": [
    {
     "name": "stdout",
     "output_type": "stream",
     "text": [
      "[1, 2, 3, 4, 99.0, 'Viishakha', 'Balloo']\n"
     ]
    }
   ],
   "source": [
    "my[-2]='Viishakha'\n",
    "print(my)"
   ]
  },
  {
   "cell_type": "code",
   "execution_count": 38,
   "id": "12b94156",
   "metadata": {},
   "outputs": [
    {
     "name": "stdout",
     "output_type": "stream",
     "text": [
      "[1, 2, 3, 4, 99.0, 'Viishakha', 'Balloo', 10, 20]\n"
     ]
    }
   ],
   "source": [
    "b=[10,20]\n",
    "x=my+b # 2 LIST KO ADD KR DIYA X KE  ANDAR\n",
    "print(x) "
   ]
  },
  {
   "cell_type": "markdown",
   "id": "165cc561",
   "metadata": {},
   "source": [
    "BASIC LIST METHODS"
   ]
  },
  {
   "cell_type": "code",
   "execution_count": 39,
   "id": "11318abf",
   "metadata": {},
   "outputs": [
    {
     "name": "stdout",
     "output_type": "stream",
     "text": [
      "7\n"
     ]
    }
   ],
   "source": [
    "#LEN METHOD\n",
    "A=[1,2,3,4,5,'chanda','Balloo']\n",
    "print(len(A))"
   ]
  },
  {
   "cell_type": "code",
   "execution_count": 43,
   "id": "7ffee2a6",
   "metadata": {},
   "outputs": [
    {
     "name": "stdout",
     "output_type": "stream",
     "text": [
      "0\n"
     ]
    }
   ],
   "source": [
    "#empty list\n",
    "a=[]\n",
    "print(len(a))"
   ]
  },
  {
   "cell_type": "code",
   "execution_count": 5,
   "id": "2d4e70fb",
   "metadata": {},
   "outputs": [
    {
     "name": "stdout",
     "output_type": "stream",
     "text": [
      "Enter the item you want to purchase a\n",
      "Enter the item you want to purchase b\n",
      "Enter the item you want to purchase \n",
      "Enter the item you want to purchase vf\n",
      "Enter the item you want to purchase \n",
      "Enter the item you want to purchase \n",
      "Enter the item you want to purchase d\n",
      "Enter the item you want to purchase d\n",
      "Enter the item you want to purchase d\n",
      "Enter the item you want to purchase d\n",
      "['a', 'b', '', 'vf', '', '', 'd', 'd', 'd', 'd']\n"
     ]
    }
   ],
   "source": [
    "#empty list\n",
    "b = list() \n",
    "for i in range(10):\n",
    "    user=input(\"Enter the item you want to purchase \")\n",
    "    b=b+[user]\n",
    "print(b)"
   ]
  },
  {
   "cell_type": "code",
   "execution_count": 2,
   "id": "88444540",
   "metadata": {},
   "outputs": [
    {
     "name": "stdout",
     "output_type": "stream",
     "text": [
      "Enter the number you want to add 5\n",
      "Enter the item in lista\n",
      "Enter the item in listf\n",
      "Enter the item in listg\n",
      "Enter the item in listd\n",
      "Enter the item in lists\n",
      "['a', 'f', 'g', 'd', 's']\n"
     ]
    }
   ],
   "source": [
    "a=int(input(\"Enter the number you want to add \"))\n",
    "v = list()\n",
    "for i in range(a):\n",
    "    user_input=input(\"Enter the item in list\")\n",
    "    v=v+[user_input]\n",
    "print(v)"
   ]
  },
  {
   "cell_type": "code",
   "execution_count": 3,
   "id": "ca30929d",
   "metadata": {},
   "outputs": [
    {
     "name": "stdout",
     "output_type": "stream",
     "text": [
      "Enter the number you want to add 2\n",
      "Enter the item in lista\n",
      "Enter the item in listb\n",
      "['a', 'b']\n"
     ]
    }
   ],
   "source": [
    "#while loop se kra\n",
    "a=int(input(\"Enter the number you want to add \"))\n",
    "v = list()\n",
    "i=0\n",
    "while i<a:\n",
    "    user_input=input(\"Enter the item in list\")\n",
    "    v=v+[user_input]\n",
    "    i=i+1\n",
    "print(v)"
   ]
  },
  {
   "cell_type": "markdown",
   "id": "368e8113",
   "metadata": {},
   "source": [
    "CHECK MEMBERS IN A LIST"
   ]
  },
  {
   "cell_type": "code",
   "execution_count": 8,
   "id": "3e94692b",
   "metadata": {},
   "outputs": [
    {
     "name": "stdout",
     "output_type": "stream",
     "text": [
      "No, Adding to the list\n",
      "4\n"
     ]
    }
   ],
   "source": [
    "a=[1,2,'hello']\n",
    "if '6' in a:\n",
    "    print(\"TRUE\")\n",
    "else:\n",
    "    print(\"No, Adding to the list\")\n",
    "    a=a+['6']\n",
    "print(len(a))"
   ]
  },
  {
   "cell_type": "markdown",
   "id": "b702cda9",
   "metadata": {},
   "source": [
    "max()"
   ]
  },
  {
   "cell_type": "code",
   "execution_count": 11,
   "id": "23229879",
   "metadata": {},
   "outputs": [
    {
     "name": "stdout",
     "output_type": "stream",
     "text": [
      "dhruv\n",
      "9\n",
      "d\n",
      "aashish\n"
     ]
    }
   ],
   "source": [
    "list1=['dhruv','aashish','beenu']\n",
    "list2=[5,6,7,8,9,0]\n",
    "list3=['a','b','d','A']\n",
    "print(max(list1))\n",
    "print(max(list2))\n",
    "print(max(list3)) #because of ascii value\n",
    "print(min(list1))"
   ]
  },
  {
   "cell_type": "markdown",
   "id": "b536f7b4",
   "metadata": {},
   "source": [
    "Q. print the name with highest name of character"
   ]
  },
  {
   "cell_type": "code",
   "execution_count": 14,
   "id": "9e2c979a",
   "metadata": {},
   "outputs": [
    {
     "name": "stdout",
     "output_type": "stream",
     "text": [
      "aashish\n"
     ]
    }
   ],
   "source": [
    "List=['dhruv','aashish','beenu','deepali']\n",
    "max_len=0;\n",
    "result=\"\"\n",
    "for i in List:\n",
    "    if len(i)>max_len:\n",
    "        max_len=len(i)\n",
    "        result=i\n",
    "print(result)"
   ]
  },
  {
   "cell_type": "markdown",
   "id": "b5699046",
   "metadata": {},
   "source": [
    "APPEND"
   ]
  },
  {
   "cell_type": "code",
   "execution_count": 16,
   "id": "c586db25",
   "metadata": {},
   "outputs": [
    {
     "name": "stdout",
     "output_type": "stream",
     "text": [
      "[1, 2, 77, 99]\n"
     ]
    }
   ],
   "source": [
    "a=[1,2,77]\n",
    "a.append(99)\n",
    "print(a)"
   ]
  },
  {
   "cell_type": "code",
   "execution_count": 17,
   "id": "e1ce2643",
   "metadata": {},
   "outputs": [
    {
     "name": "stdout",
     "output_type": "stream",
     "text": [
      "[1, 2, 3, 4, ['hello', 'Dhruv']]\n"
     ]
    }
   ],
   "source": [
    "b=[1,2,3,4]\n",
    "b.append(['hello','Dhruv']) # it will be added as a list\n",
    "print(b)"
   ]
  },
  {
   "cell_type": "code",
   "execution_count": 1,
   "id": "698b67be",
   "metadata": {},
   "outputs": [
    {
     "name": "stdout",
     "output_type": "stream",
     "text": [
      "No of item you want to add5\n",
      "Enter the itemspem\n",
      "Enter the itemsh\n",
      "Enter the itemsk\n",
      "Enter the itemsd\n",
      "Enter the itemse\n",
      "['pem', 'h', 'k', 'd', 'e']\n"
     ]
    }
   ],
   "source": [
    "list_of_item=list()\n",
    "n=int(input(\"No of item you want to add\"))\n",
    "for i in range(n):\n",
    "    user_input=input(\"Enter the items\")\n",
    "    list_of_item.append(user_input) #RECOMMENDED WAY\n",
    "print(list_of_item)"
   ]
  },
  {
   "cell_type": "markdown",
   "id": "5ad616de",
   "metadata": {},
   "source": [
    "POP"
   ]
  },
  {
   "cell_type": "code",
   "execution_count": 22,
   "id": "9afc785a",
   "metadata": {},
   "outputs": [
    {
     "name": "stdout",
     "output_type": "stream",
     "text": [
      "[6, 3, 'Dhruv']\n"
     ]
    }
   ],
   "source": [
    "a=[5,6,3,'Dhruv']\n",
    "a.pop(0)\n",
    "print(a)"
   ]
  },
  {
   "cell_type": "markdown",
   "id": "74f11a5d",
   "metadata": {},
   "source": [
    "Remove the odd numbers"
   ]
  },
  {
   "cell_type": "code",
   "execution_count": 25,
   "id": "e1b4081a",
   "metadata": {},
   "outputs": [
    {
     "name": "stdout",
     "output_type": "stream",
     "text": [
      "[1, 24, 56]\n"
     ]
    }
   ],
   "source": [
    "a=[1,24,56,11]\n",
    "for i in a:\n",
    "    if i%2!=0:\n",
    "        a.pop()\n",
    "print(a)"
   ]
  },
  {
   "cell_type": "markdown",
   "id": "75225c74",
   "metadata": {},
   "source": [
    "SORT AND REVERSE METHOD"
   ]
  },
  {
   "cell_type": "code",
   "execution_count": 27,
   "id": "19fdbc5e",
   "metadata": {},
   "outputs": [
    {
     "name": "stdout",
     "output_type": "stream",
     "text": [
      "[0, 0.5, 1, 2, 3, 9]\n"
     ]
    }
   ],
   "source": [
    "A=[1,2,9,0,3,0.5]\n",
    "A=sorted(A)\n",
    "print(A)"
   ]
  },
  {
   "cell_type": "code",
   "execution_count": 28,
   "id": "a42d8b8b",
   "metadata": {},
   "outputs": [
    {
     "name": "stdout",
     "output_type": "stream",
     "text": [
      "[0, 0.5, 1, 2, 3, 9]\n"
     ]
    }
   ],
   "source": [
    "b=[1,2,9,0,3,0.5]\n",
    "b.sort()\n",
    "print(b)"
   ]
  },
  {
   "cell_type": "code",
   "execution_count": 3,
   "id": "b9a9419e",
   "metadata": {},
   "outputs": [
    {
     "name": "stdout",
     "output_type": "stream",
     "text": [
      "[9, 3, 2, 1, 0.5, 0]\n"
     ]
    }
   ],
   "source": [
    "A=[1,2,9,0,3,0.5]\n",
    "A.sort(reverse=True)\n",
    "print(A)"
   ]
  },
  {
   "cell_type": "code",
   "execution_count": null,
   "id": "5611b45c",
   "metadata": {},
   "outputs": [],
   "source": []
  }
 ],
 "metadata": {
  "kernelspec": {
   "display_name": "Python 3 (ipykernel)",
   "language": "python",
   "name": "python3"
  },
  "language_info": {
   "codemirror_mode": {
    "name": "ipython",
    "version": 3
   },
   "file_extension": ".py",
   "mimetype": "text/x-python",
   "name": "python",
   "nbconvert_exporter": "python",
   "pygments_lexer": "ipython3",
   "version": "3.9.7"
  }
 },
 "nbformat": 4,
 "nbformat_minor": 5
}
