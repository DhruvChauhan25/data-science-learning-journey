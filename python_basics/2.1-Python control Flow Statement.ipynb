{
 "cells": [
  {
   "cell_type": "markdown",
   "id": "98177a5f",
   "metadata": {},
   "source": [
    "# LOOPS"
   ]
  },
  {
   "cell_type": "markdown",
   "id": "75b2d4a5",
   "metadata": {},
   "source": [
    "WHILE LOOP"
   ]
  },
  {
   "cell_type": "code",
   "execution_count": 1,
   "id": "25fbe777",
   "metadata": {},
   "outputs": [
    {
     "name": "stdout",
     "output_type": "stream",
     "text": [
      "your score is:100\n",
      "I'll attempt next year\n",
      "your score is:200\n",
      "I'll attempt next year\n",
      "your score is:300\n",
      "I'll attempt next year\n",
      "your score is:399\n",
      "I'll attempt next year\n"
     ]
    }
   ],
   "source": [
    "total_marks=1000\n",
    "cutoff=400\n",
    "scores=[100,200,300,399,500]\n",
    "year=0 #index from 0\n",
    "while scores[year]<cutoff:\n",
    "    print(f\"your score is:{scores[year]}\")\n",
    "    print(\"I'll attempt next year\")\n",
    "    year=year+1 # increment 1 to current year"
   ]
  },
  {
   "cell_type": "code",
   "execution_count": 1,
   "id": "e55a05cc",
   "metadata": {},
   "outputs": [
    {
     "name": "stdout",
     "output_type": "stream",
     "text": [
      "Current station is station1\n",
      "Current station is station2\n"
     ]
    }
   ],
   "source": [
    "#Train Journey\n",
    "stations=[\"station1\",\"station2\",\"station3\"]\n",
    "current_station=0\n",
    "destination=\"station3\"\n",
    "while stations[current_station]!=destination:\n",
    "    print(f\"Current station is {stations[current_station]}\")\n",
    "    current_station=current_station+1"
   ]
  },
  {
   "cell_type": "markdown",
   "id": "8aefec68",
   "metadata": {},
   "source": [
    "FOR LOOP"
   ]
  },
  {
   "cell_type": "code",
   "execution_count": 4,
   "id": "7cea12c6",
   "metadata": {},
   "outputs": [
    {
     "name": "stdout",
     "output_type": "stream",
     "text": [
      "10 X 0 =0\n",
      "10 X 1 =10\n",
      "10 X 2 =20\n",
      "10 X 3 =30\n",
      "10 X 4 =40\n",
      "10 X 5 =50\n",
      "10 X 6 =60\n",
      "10 X 7 =70\n",
      "10 X 8 =80\n",
      "10 X 9 =90\n",
      "10 X 10 =100\n"
     ]
    }
   ],
   "source": [
    "for i in range(0,11):\n",
    "    print(f\"10 X {i} ={10*i}\")"
   ]
  },
  {
   "cell_type": "code",
   "execution_count": 5,
   "id": "679fd035",
   "metadata": {},
   "outputs": [
    {
     "name": "stdout",
     "output_type": "stream",
     "text": [
      "\n",
      "*\n",
      "**\n",
      "***\n",
      "****\n"
     ]
    }
   ],
   "source": [
    "for i in range(0,5):\n",
    "    print(\"*\"*i)"
   ]
  },
  {
   "cell_type": "code",
   "execution_count": 9,
   "id": "431d4dfe",
   "metadata": {},
   "outputs": [
    {
     "name": "stdout",
     "output_type": "stream",
     "text": [
      "100\n",
      "300\n",
      "1500\n",
      "1900\n"
     ]
    }
   ],
   "source": [
    "cost=[100,200,1200,400]\n",
    "n=len(cost)\n",
    "total_sum=0\n",
    "for i in range(0,n):\n",
    "    total_sum=total_sum+cost[i]\n",
    "    print(total_sum)"
   ]
  },
  {
   "cell_type": "code",
   "execution_count": 12,
   "id": "334307bd",
   "metadata": {},
   "outputs": [
    {
     "name": "stdout",
     "output_type": "stream",
     "text": [
      "100\n",
      "300\n",
      "1500\n",
      "1900\n"
     ]
    }
   ],
   "source": [
    "a=[100,200,1200,400]\n",
    "sum=0;\n",
    "for i in a:\n",
    "    sum=sum+i\n",
    "    print(sum)"
   ]
  },
  {
   "cell_type": "code",
   "execution_count": 13,
   "id": "223d281c",
   "metadata": {},
   "outputs": [
    {
     "name": "stdout",
     "output_type": "stream",
     "text": [
      "Current station is:station1\n",
      "Current station is:station2\n",
      "Current station is:station3\n"
     ]
    }
   ],
   "source": [
    "stations=[\"station1\",\"station2\",\"station3\"]\n",
    "for i in stations:\n",
    "    print(f\"Current station is:{i}\")"
   ]
  },
  {
   "cell_type": "code",
   "execution_count": 17,
   "id": "f0a98baf",
   "metadata": {},
   "outputs": [
    {
     "name": "stdout",
     "output_type": "stream",
     "text": [
      "Current station is:0\n",
      "Current station is:1\n",
      "Current station is:2\n"
     ]
    }
   ],
   "source": [
    "stations=[\"station1\",\"station2\",\"station3\"]\n",
    "n=len(stations)\n",
    "for i in range(0,n):\n",
    "    print(f\"Current station is:{stations[i]}\")"
   ]
  },
  {
   "cell_type": "markdown",
   "id": "46a2abf7",
   "metadata": {},
   "source": [
    "BREAK AND CONTINUE"
   ]
  },
  {
   "cell_type": "code",
   "execution_count": 19,
   "id": "ce5c97bd",
   "metadata": {},
   "outputs": [
    {
     "name": "stdout",
     "output_type": "stream",
     "text": [
      "After adding total sum=100\n",
      "After adding total sum=300\n",
      "After adding total sum=1500\n",
      "After adding total sum=1900\n",
      "Budget se bhaar hai\n"
     ]
    }
   ],
   "source": [
    "cost_item=[100,200,1200,400,10000]\n",
    "sum=0;\n",
    "budget=2000\n",
    "for i in cost_item:\n",
    "    sum=sum+i;\n",
    "    if sum>budget:\n",
    "        print(\"Budget se bhaar hai\")\n",
    "        break\n",
    "    print(f\"After adding total sum={sum}\")"
   ]
  },
  {
   "cell_type": "code",
   "execution_count": 27,
   "id": "c401b5f5",
   "metadata": {},
   "outputs": [
    {
     "name": "stdout",
     "output_type": "stream",
     "text": [
      "1\n",
      "3\n",
      "5\n",
      "7\n",
      "9\n",
      "11\n",
      "13\n",
      "15\n",
      "17\n",
      "19\n"
     ]
    }
   ],
   "source": [
    "for i in range(1,21):\n",
    "    if i%2==0:\n",
    "        continue # start the loop again\n",
    "    print(i)"
   ]
  },
  {
   "cell_type": "code",
   "execution_count": null,
   "id": "dea45339",
   "metadata": {},
   "outputs": [],
   "source": []
  }
 ],
 "metadata": {
  "kernelspec": {
   "display_name": "Python 3 (ipykernel)",
   "language": "python",
   "name": "python3"
  },
  "language_info": {
   "codemirror_mode": {
    "name": "ipython",
    "version": 3
   },
   "file_extension": ".py",
   "mimetype": "text/x-python",
   "name": "python",
   "nbconvert_exporter": "python",
   "pygments_lexer": "ipython3",
   "version": "3.9.7"
  }
 },
 "nbformat": 4,
 "nbformat_minor": 5
}
