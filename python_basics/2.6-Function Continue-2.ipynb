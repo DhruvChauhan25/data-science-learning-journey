{
 "cells": [
  {
   "cell_type": "markdown",
   "id": "c572782e",
   "metadata": {},
   "source": [
    "# STARIC TYPE FUNCTION"
   ]
  },
  {
   "cell_type": "code",
   "execution_count": 1,
   "id": "b87b8677",
   "metadata": {},
   "outputs": [
    {
     "data": {
      "text/plain": [
       "30"
      ]
     },
     "execution_count": 1,
     "metadata": {},
     "output_type": "execute_result"
    }
   ],
   "source": [
    "def test():\n",
    "    a=5*6\n",
    "    return a\n",
    "test()"
   ]
  },
  {
   "cell_type": "markdown",
   "id": "d922e21d",
   "metadata": {},
   "source": [
    "write a function which will take any no of input and return list as a output"
   ]
  },
  {
   "cell_type": "code",
   "execution_count": 4,
   "id": "2e33b2f6",
   "metadata": {},
   "outputs": [
    {
     "name": "stdout",
     "output_type": "stream",
     "text": [
      "(1, 2, 3, 'dhruv')\n"
     ]
    }
   ],
   "source": [
    "def test1(*args):\n",
    "    return args\n",
    "print(test1(1,2,3,'dhruv'))"
   ]
  },
  {
   "cell_type": "code",
   "execution_count": 5,
   "id": "e602143b",
   "metadata": {},
   "outputs": [
    {
     "name": "stdout",
     "output_type": "stream",
     "text": [
      "([1, 2, 3, 4], 'Dhruv', 'Chauhan', (5, 56), {77})\n"
     ]
    }
   ],
   "source": [
    "print(test1([1,2,3,4],'Dhruv','Chauhan',(5,56),{77}))"
   ]
  },
  {
   "cell_type": "code",
   "execution_count": 6,
   "id": "3b378e37",
   "metadata": {},
   "outputs": [
    {
     "name": "stdout",
     "output_type": "stream",
     "text": [
      "[[1, 2, 3], (4, 5), 'Dhruv', 88.98]\n"
     ]
    }
   ],
   "source": [
    "#ANS Of A Ques\n",
    "def test2(*args):\n",
    "    return list(args)\n",
    "print(test2([1,2,3],(4,5),'Dhruv',88.98))"
   ]
  },
  {
   "cell_type": "code",
   "execution_count": 14,
   "id": "78e62344",
   "metadata": {},
   "outputs": [
    {
     "name": "stdout",
     "output_type": "stream",
     "text": [
      "[[1, 2, 3], (4, 5), 'Dhruv', 88.98]\n",
      "<class 'list'>\n",
      "0.0\n"
     ]
    }
   ],
   "source": [
    "#ALTERNATIVE WAY\n",
    "import time\n",
    "start=time.time()\n",
    "def test3(*args):\n",
    "    l=[]\n",
    "    for i in args:\n",
    "        l.append(i)\n",
    "    return l\n",
    "end=time.time()\n",
    "print(test3([1,2,3],(4,5),'Dhruv',88.98))\n",
    "print(type(test3()))\n",
    "print(end-start)"
   ]
  },
  {
   "cell_type": "markdown",
   "id": "7b3acbb1",
   "metadata": {},
   "source": [
    "# DICTIONARY"
   ]
  },
  {
   "cell_type": "code",
   "execution_count": 13,
   "id": "f32f9247",
   "metadata": {},
   "outputs": [
    {
     "name": "stdout",
     "output_type": "stream",
     "text": [
      "{'key1': 'string', 'key2': [1, 2, 3]}\n"
     ]
    }
   ],
   "source": [
    "D={\"key1\":'string','key2':[1,2,3]}\n",
    "print(D)"
   ]
  },
  {
   "cell_type": "code",
   "execution_count": 14,
   "id": "38603a3b",
   "metadata": {},
   "outputs": [
    {
     "data": {
      "text/plain": [
       "{234: 'string'}"
      ]
     },
     "execution_count": 14,
     "metadata": {},
     "output_type": "execute_result"
    }
   ],
   "source": [
    "D1={234:'string'}\n",
    "D1"
   ]
  },
  {
   "cell_type": "code",
   "execution_count": 15,
   "id": "a38ed868",
   "metadata": {},
   "outputs": [
    {
     "data": {
      "text/plain": [
       "{12.5: 5}"
      ]
     },
     "execution_count": 15,
     "metadata": {},
     "output_type": "execute_result"
    }
   ],
   "source": [
    "D2={12.5:5}\n",
    "D2"
   ]
  },
  {
   "cell_type": "code",
   "execution_count": 16,
   "id": "c72f7294",
   "metadata": {},
   "outputs": [
    {
     "data": {
      "text/plain": [
       "{(1, 2, 3): 'dhruv'}"
      ]
     },
     "execution_count": 16,
     "metadata": {},
     "output_type": "execute_result"
    }
   ],
   "source": [
    "d={(1,2,3):'dhruv'}\n",
    "d"
   ]
  },
  {
   "cell_type": "code",
   "execution_count": 6,
   "id": "a9e7b6bd",
   "metadata": {},
   "outputs": [
    {
     "name": "stdout",
     "output_type": "stream",
     "text": [
      "Student\n"
     ]
    }
   ],
   "source": [
    " d1={'name':'Dhruv','org':'Student','mail id':'nicedhruv2@gmail.com'}\n",
    "print(d1['org'])"
   ]
  },
  {
   "cell_type": "code",
   "execution_count": 4,
   "id": "4907ca1e",
   "metadata": {},
   "outputs": [
    {
     "name": "stdout",
     "output_type": "stream",
     "text": [
      "{'name': 'dhruv', 'Mentor': {'naam': 'Dipu', 'Roll no': 2010990978}}\n",
      "{'naam': 'Dipu', 'Roll no': 2010990978}\n"
     ]
    }
   ],
   "source": [
    "d2={\"name\":\"dhruv\",\"Mentor\":{\"naam\":\"Dipu\",\"Roll no\":2010990978}}\n",
    "print(d2)\n",
    "print(d2['Mentor'])\n"
   ]
  },
  {
   "cell_type": "code",
   "execution_count": 7,
   "id": "c6570714",
   "metadata": {},
   "outputs": [
    {
     "data": {
      "text/plain": [
       "dict_keys(['name', 'Mentor'])"
      ]
     },
     "execution_count": 7,
     "metadata": {},
     "output_type": "execute_result"
    }
   ],
   "source": [
    "d2.keys()"
   ]
  },
  {
   "cell_type": "markdown",
   "id": "4d18a28b",
   "metadata": {},
   "source": [
    "### "
   ]
  },
  {
   "cell_type": "code",
   "execution_count": 8,
   "id": "933b87cb",
   "metadata": {},
   "outputs": [
    {
     "data": {
      "text/plain": [
       "['dhruv', {'naam': 'Dipu', 'Roll no': 2010990978}]"
      ]
     },
     "execution_count": 8,
     "metadata": {},
     "output_type": "execute_result"
    }
   ],
   "source": [
    "list(d2.values())"
   ]
  },
  {
   "cell_type": "code",
   "execution_count": 9,
   "id": "09725146",
   "metadata": {},
   "outputs": [
    {
     "data": {
      "text/plain": [
       "dict_items([('name', 'Dhruv'), ('org', 'Student'), ('mail id', 'nicedhruv2@gmail.com')])"
      ]
     },
     "execution_count": 9,
     "metadata": {},
     "output_type": "execute_result"
    }
   ],
   "source": [
    "d1.items()"
   ]
  },
  {
   "cell_type": "code",
   "execution_count": 10,
   "id": "5861ecd9",
   "metadata": {},
   "outputs": [],
   "source": [
    "#TO ADD A NEW KEY VALUE PAIR TO A PREVIOUS DICT\n",
    "d2[\"mobileNumber\"]=(8006511177)"
   ]
  },
  {
   "cell_type": "code",
   "execution_count": 11,
   "id": "697ac241",
   "metadata": {},
   "outputs": [
    {
     "data": {
      "text/plain": [
       "{'name': 'dhruv',\n",
       " 'Mentor': {'naam': 'Dipu', 'Roll no': 2010990978},\n",
       " 'mobileNumber': 8006511177}"
      ]
     },
     "execution_count": 11,
     "metadata": {},
     "output_type": "execute_result"
    }
   ],
   "source": [
    "d2"
   ]
  },
  {
   "cell_type": "markdown",
   "id": "0f07e37d",
   "metadata": {},
   "source": [
    "DELETE A ENTIRE DICT"
   ]
  },
  {
   "cell_type": "markdown",
   "id": "a974f039",
   "metadata": {},
   "source": [
    "\n",
    "del d2"
   ]
  },
  {
   "cell_type": "markdown",
   "id": "6b9f0c33",
   "metadata": {},
   "source": [
    "# BACK TO FUNCTION"
   ]
  },
  {
   "cell_type": "markdown",
   "id": "6e2fb0f8",
   "metadata": {},
   "source": [
    "CREATE A FUNCTION WHICH WILL TAKE A VARIABLE NAME AS WELL AS VALUE"
   ]
  },
  {
   "cell_type": "code",
   "execution_count": 4,
   "id": "33297a08",
   "metadata": {},
   "outputs": [],
   "source": [
    "def test4(**kwargs):\n",
    "    return kwargs"
   ]
  },
  {
   "cell_type": "code",
   "execution_count": 5,
   "id": "ea6eb021",
   "metadata": {},
   "outputs": [
    {
     "data": {
      "text/plain": [
       "{'a': 4, 'b': 5, 'c': 'dhurv'}"
      ]
     },
     "execution_count": 5,
     "metadata": {},
     "output_type": "execute_result"
    }
   ],
   "source": [
    "test4(a=4,b=5,c='dhurv')"
   ]
  },
  {
   "cell_type": "markdown",
   "id": "435e029a",
   "metadata": {},
   "source": [
    "# CREATING A FUNCTION INSIDE A FUNCTION"
   ]
  },
  {
   "cell_type": "code",
   "execution_count": 6,
   "id": "642358dc",
   "metadata": {},
   "outputs": [],
   "source": [
    "def fun(a):\n",
    "    return a\n",
    "def fun1(b):\n",
    "    return b\n",
    "def fun2(func):\n",
    "    return func(\"Dhruv\")\n"
   ]
  },
  {
   "cell_type": "code",
   "execution_count": 8,
   "id": "e5ad62d6",
   "metadata": {},
   "outputs": [
    {
     "name": "stdout",
     "output_type": "stream",
     "text": [
      "Dhruv\n"
     ]
    }
   ],
   "source": [
    "print(fun2(fun))"
   ]
  },
  {
   "cell_type": "code",
   "execution_count": 23,
   "id": "17b0f4c4",
   "metadata": {},
   "outputs": [
    {
     "name": "stdout",
     "output_type": "stream",
     "text": [
      "Chanda\n"
     ]
    }
   ],
   "source": [
    "def fun(a):\n",
    "    return a\n",
    "def fun1(*args):\n",
    "    return \"Chanda\"\n",
    "def fun2(func):\n",
    "    return func(\"Dhruv\")\n",
    "print(fun2(fun1))"
   ]
  },
  {
   "cell_type": "code",
   "execution_count": 30,
   "id": "290873b7",
   "metadata": {},
   "outputs": [
    {
     "name": "stdout",
     "output_type": "stream",
     "text": [
      "This is my test5\n",
      "This is my test6\n",
      "None\n"
     ]
    }
   ],
   "source": [
    "def test5(a):\n",
    "    print(\"This is my test5\")\n",
    "    \n",
    "    def test6():\n",
    "        print(\"This is my test6\")\n",
    "    def test7():\n",
    "        print(\"This is my test7\")\n",
    "    \n",
    "    if a == \"Dhruv\":\n",
    "        return test6()\n",
    "    elif a==\"Chauhan\":\n",
    "        return test7()\n",
    "print(test5('Dhruv'))"
   ]
  },
  {
   "cell_type": "code",
   "execution_count": 3,
   "id": "95e76ee8",
   "metadata": {},
   "outputs": [],
   "source": [
    "def tes(*args):\n",
    "    print(\"This is a return of tes\")"
   ]
  },
  {
   "cell_type": "code",
   "execution_count": 4,
   "id": "6b793fd7",
   "metadata": {},
   "outputs": [
    {
     "name": "stdout",
     "output_type": "stream",
     "text": [
      "I am inside 9\n",
      "This is a return of tes\n",
      "None\n"
     ]
    }
   ],
   "source": [
    "def test8(func):\n",
    "    def test9():\n",
    "        print(\"I am inside 9\")\n",
    "        func()\n",
    "    return test9()\n",
    "print(test8(tes))"
   ]
  },
  {
   "cell_type": "markdown",
   "id": "afdbe7f0",
   "metadata": {},
   "source": [
    "# DECORATOR"
   ]
  },
  {
   "cell_type": "markdown",
   "id": "8be7440f",
   "metadata": {},
   "source": [
    "Q- Call any function but it should first print the decorator vaali line"
   ]
  },
  {
   "cell_type": "code",
   "execution_count": 5,
   "id": "d712ff13",
   "metadata": {},
   "outputs": [
    {
     "name": "stdout",
     "output_type": "stream",
     "text": [
      "I am inside 9 and this will behave as decorator to any function that i am going to call \n",
      "C:\\Users\\niced\\Desktop\\INeuron\n",
      "This is a return of tes\n"
     ]
    }
   ],
   "source": [
    "import os\n",
    "def test8(func):\n",
    "    def test9():\n",
    "        print(\"I am inside 9 and this will behave as decorator to any function that i am going to call \")\n",
    "        print(os.getcwd())\n",
    "        func()\n",
    "    return test9()\n",
    "test8(tes)"
   ]
  },
  {
   "cell_type": "code",
   "execution_count": 4,
   "id": "3806d53e",
   "metadata": {},
   "outputs": [
    {
     "name": "stdout",
     "output_type": "stream",
     "text": [
      "I am inside 9 and this will behave as decorator to any function that i am going to call \n",
      "C:\\Users\\niced\\Desktop\\INeuron\n",
      "This is test 10\n"
     ]
    }
   ],
   "source": [
    "@test8\n",
    "def test10():\n",
    "    print(\"This is test 10\")"
   ]
  },
  {
   "cell_type": "code",
   "execution_count": 8,
   "id": "bf44d567",
   "metadata": {},
   "outputs": [],
   "source": [
    "import os\n",
    "def test11(func):\n",
    "    def test12():\n",
    "        func()\n",
    "        print(os.getcwd())\n",
    "    return test12"
   ]
  },
  {
   "cell_type": "code",
   "execution_count": 9,
   "id": "0205b97d",
   "metadata": {},
   "outputs": [],
   "source": [
    "@test11\n",
    "def test13():\n",
    "    print(\"It is test 13\")"
   ]
  },
  {
   "cell_type": "code",
   "execution_count": 10,
   "id": "e0784e21",
   "metadata": {},
   "outputs": [
    {
     "name": "stdout",
     "output_type": "stream",
     "text": [
      "It is test 13\n",
      "C:\\Users\\niced\\Desktop\\INeuron\n"
     ]
    }
   ],
   "source": [
    "test13()"
   ]
  },
  {
   "cell_type": "code",
   "execution_count": 17,
   "id": "71ef09a7",
   "metadata": {},
   "outputs": [
    {
     "name": "stdout",
     "output_type": "stream",
     "text": [
      "Hello\n",
      "1673611172.8335536\n"
     ]
    }
   ],
   "source": [
    "import time\n",
    "start=time.time()\n",
    "print(\"Hello\")\n",
    "end=time.time()\n",
    "print()\n",
    "\n"
   ]
  },
  {
   "cell_type": "code",
   "execution_count": 5,
   "id": "68ed1f98",
   "metadata": {},
   "outputs": [],
   "source": [
    "import time\n",
    "def test14(fuc):\n",
    "    def test15():\n",
    "        start=time.time()\n",
    "        fuc()\n",
    "        end=time.time()\n",
    "        print(end - start)\n",
    "    return test15()"
   ]
  },
  {
   "cell_type": "code",
   "execution_count": 6,
   "id": "27210640",
   "metadata": {},
   "outputs": [
    {
     "name": "stdout",
     "output_type": "stream",
     "text": [
      "0.0\n"
     ]
    }
   ],
   "source": [
    "@test14\n",
    "def test16():\n",
    "    l=[1,4,5,7,3]\n",
    "    l1=[]\n",
    "    for i in l:\n",
    "        if type(i)==int:\n",
    "            l1.append(i)\n",
    "    return l1\n"
   ]
  },
  {
   "cell_type": "code",
   "execution_count": 7,
   "id": "3928d654",
   "metadata": {},
   "outputs": [
    {
     "ename": "TypeError",
     "evalue": "'NoneType' object is not callable",
     "output_type": "error",
     "traceback": [
      "\u001b[1;31m---------------------------------------------------------------------------\u001b[0m",
      "\u001b[1;31mTypeError\u001b[0m                                 Traceback (most recent call last)",
      "\u001b[1;32m~\\AppData\\Local\\Temp/ipykernel_10212/3897567230.py\u001b[0m in \u001b[0;36m<module>\u001b[1;34m\u001b[0m\n\u001b[1;32m----> 1\u001b[1;33m \u001b[0mtest16\u001b[0m\u001b[1;33m(\u001b[0m\u001b[1;33m)\u001b[0m\u001b[1;33m\u001b[0m\u001b[1;33m\u001b[0m\u001b[0m\n\u001b[0m",
      "\u001b[1;31mTypeError\u001b[0m: 'NoneType' object is not callable"
     ]
    }
   ],
   "source": []
  },
  {
   "cell_type": "code",
   "execution_count": null,
   "id": "d5e70668",
   "metadata": {},
   "outputs": [],
   "source": []
  }
 ],
 "metadata": {
  "kernelspec": {
   "display_name": "Python 3 (ipykernel)",
   "language": "python",
   "name": "python3"
  },
  "language_info": {
   "codemirror_mode": {
    "name": "ipython",
    "version": 3
   },
   "file_extension": ".py",
   "mimetype": "text/x-python",
   "name": "python",
   "nbconvert_exporter": "python",
   "pygments_lexer": "ipython3",
   "version": "3.9.7"
  }
 },
 "nbformat": 4,
 "nbformat_minor": 5
}
