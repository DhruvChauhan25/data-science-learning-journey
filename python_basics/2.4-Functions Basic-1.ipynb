{
 "cells": [
  {
   "cell_type": "markdown",
   "id": "72b9eac6",
   "metadata": {},
   "source": [
    "# FUNCTION"
   ]
  },
  {
   "cell_type": "code",
   "execution_count": 1,
   "id": "e9132a79",
   "metadata": {},
   "outputs": [],
   "source": [
    "def test():\n",
    "    pass"
   ]
  },
  {
   "cell_type": "code",
   "execution_count": 2,
   "id": "f485adbf",
   "metadata": {},
   "outputs": [
    {
     "name": "stdout",
     "output_type": "stream",
     "text": [
      "This is my 1st creation of a function\n"
     ]
    }
   ],
   "source": [
    "def test1():\n",
    "    print(\"This is my 1st creation of a function\")\n",
    "test1()#call of a function"
   ]
  },
  {
   "cell_type": "code",
   "execution_count": 3,
   "id": "408e6982",
   "metadata": {},
   "outputs": [
    {
     "name": "stdout",
     "output_type": "stream",
     "text": [
      "This is my 1st creation of a function\n"
     ]
    },
    {
     "data": {
      "text/plain": [
       "NoneType"
      ]
     },
     "execution_count": 3,
     "metadata": {},
     "output_type": "execute_result"
    }
   ],
   "source": [
    "type(test1())"
   ]
  },
  {
   "cell_type": "code",
   "execution_count": 7,
   "id": "d1aba2d5",
   "metadata": {},
   "outputs": [
    {
     "name": "stdout",
     "output_type": "stream",
     "text": [
      "<class 'int'>\n",
      "5\n",
      "<class 'int'>\n"
     ]
    }
   ],
   "source": [
    "def test2():\n",
    "    return 5\n",
    "d=test2()\n",
    "print(type(d))\n",
    "print(d)\n",
    "print(type(test2()))"
   ]
  },
  {
   "cell_type": "code",
   "execution_count": 8,
   "id": "647f93b9",
   "metadata": {},
   "outputs": [
    {
     "name": "stdout",
     "output_type": "stream",
     "text": [
      "(1, 2, 3, [5, 6, 7, 'Dhruv'], (8, 9))\n",
      "<class 'tuple'>\n"
     ]
    }
   ],
   "source": [
    "def test3():\n",
    "    return 1,2,3,[5,6,7,'Dhruv'],(8,9)\n",
    "print(test3())\n",
    "print(type(test3()))"
   ]
  },
  {
   "cell_type": "code",
   "execution_count": 9,
   "id": "8a4253b0",
   "metadata": {},
   "outputs": [
    {
     "name": "stdout",
     "output_type": "stream",
     "text": [
      "2\n"
     ]
    }
   ],
   "source": [
    "#extract 2\n",
    "print(test3()[1])"
   ]
  },
  {
   "cell_type": "code",
   "execution_count": 11,
   "id": "8a16d736",
   "metadata": {},
   "outputs": [
    {
     "name": "stdout",
     "output_type": "stream",
     "text": [
      "1\n",
      "2\n",
      "3\n",
      "[5, 6, 7, 'Dhruv']\n",
      "(8, 9)\n",
      "<class 'list'>\n"
     ]
    }
   ],
   "source": [
    "a,b,c,d,e=test3()\n",
    "print(a)\n",
    "print(b)\n",
    "print(c)\n",
    "print(d)\n",
    "print(e)\n",
    "print(type(d))"
   ]
  },
  {
   "cell_type": "code",
   "execution_count": 13,
   "id": "e2f2139e",
   "metadata": {},
   "outputs": [
    {
     "data": {
      "text/plain": [
       "28"
      ]
     },
     "execution_count": 13,
     "metadata": {},
     "output_type": "execute_result"
    }
   ],
   "source": [
    "def test4():\n",
    "    a=4*5+8\n",
    "    return a\n",
    "test4()"
   ]
  },
  {
   "cell_type": "code",
   "execution_count": 31,
   "id": "bd773a3a",
   "metadata": {},
   "outputs": [
    {
     "name": "stdout",
     "output_type": "stream",
     "text": [
      "20\n"
     ]
    }
   ],
   "source": [
    "def sum():\n",
    "    l=[2,3,4,5,6,'dhruv']\n",
    "    c=0\n",
    "    for i in l:\n",
    "        if type(i)==int:\n",
    "            c=c+i\n",
    "    return c\n",
    "print(sum())"
   ]
  },
  {
   "cell_type": "code",
   "execution_count": 36,
   "id": "4427e027",
   "metadata": {},
   "outputs": [
    {
     "name": "stdout",
     "output_type": "stream",
     "text": [
      "120\n"
     ]
    }
   ],
   "source": [
    "l1=[4,5,6,7,8,90]\n",
    "def sum(l1):\n",
    "    c=0\n",
    "    for i in l1:\n",
    "        if type(i)==int:\n",
    "            c=c+i\n",
    "    return c\n",
    "print(sum(l1))"
   ]
  },
  {
   "cell_type": "code",
   "execution_count": 38,
   "id": "df4da448",
   "metadata": {},
   "outputs": [
    {
     "name": "stdout",
     "output_type": "stream",
     "text": [
      "9\n"
     ]
    }
   ],
   "source": [
    "def test4(a,b):\n",
    "    return a+b\n",
    "print(test4(5,4))"
   ]
  },
  {
   "cell_type": "code",
   "execution_count": 14,
   "id": "c74b4143",
   "metadata": {},
   "outputs": [
    {
     "name": "stdout",
     "output_type": "stream",
     "text": [
      "['dhruv', 'loves', 'deepali', 'little bit only']\n"
     ]
    }
   ],
   "source": [
    "lis=[2,3,4,5,6,'dhruv',7,8,'loves','deepali','little bit only']\n",
    "def lists(lis):\n",
    "    b=list()\n",
    "    for i in lis:\n",
    "        if type(i)==str:\n",
    "            b.append(i)\n",
    "    return b\n",
    "print(lists(lis))"
   ]
  },
  {
   "cell_type": "markdown",
   "id": "d2258c26",
   "metadata": {},
   "source": [
    "Q- find out the length of a string without using len function"
   ]
  },
  {
   "cell_type": "code",
   "execution_count": 7,
   "id": "4625c696",
   "metadata": {},
   "outputs": [
    {
     "name": "stdout",
     "output_type": "stream",
     "text": [
      "Enter a stringDhruv Chauhan\n",
      "13\n"
     ]
    }
   ],
   "source": [
    "#Q- find out the length of a string\n",
    "a=input(\"Enter a string: \")\n",
    "def length(a):\n",
    "    c=0\n",
    "    for i in a:\n",
    "        c=c+1\n",
    "    return c\n",
    "print(length(a))\n",
    "     "
   ]
  },
  {
   "cell_type": "markdown",
   "id": "78bbeb1c",
   "metadata": {},
   "source": [
    "Write a function which will print index of a list element"
   ]
  },
  {
   "cell_type": "code",
   "execution_count": 8,
   "id": "11de4e07",
   "metadata": {},
   "outputs": [
    {
     "name": "stdout",
     "output_type": "stream",
     "text": [
      "The index of 1 is 0\n",
      "The index of 2 is 1\n",
      "The index of 3 is 2\n",
      "The index of dhurv is 3\n",
      "The index of 7 is 4\n",
      "The index of aashish is 5\n",
      "None\n"
     ]
    }
   ],
   "source": [
    "list=[1,2,3,'dhurv',7,'aashish']\n",
    "def index(list):\n",
    "    c=0\n",
    "    for i in list:\n",
    "        print(f\"The index of {i} is {c}\")\n",
    "        c=c+1\n",
    "print(index(list))"
   ]
  },
  {
   "cell_type": "markdown",
   "id": "c4207f46",
   "metadata": {},
   "source": [
    "Write a function which will be able to print an ip address of your system"
   ]
  },
  {
   "cell_type": "code",
   "execution_count": 11,
   "id": "ec38b65f",
   "metadata": {},
   "outputs": [
    {
     "name": "stdout",
     "output_type": "stream",
     "text": [
      "Your Computer Name is:ChAndA\n",
      "Your Computer IP Address is:192.168.1.13\n",
      "None\n"
     ]
    }
   ],
   "source": [
    "import socket\n",
    "def ip():\n",
    "    hostname=socket.gethostname()\n",
    "    IPAddr=socket.gethostbyname(hostname)\n",
    "    print(\"Your Computer Name is:\" + hostname)\n",
    "    print(\"Your Computer IP Address is:\" + IPAddr)\n",
    "print(ip())"
   ]
  },
  {
   "cell_type": "markdown",
   "id": "80f55c33",
   "metadata": {},
   "source": [
    "Write a function which will shut down your PC"
   ]
  },
  {
   "cell_type": "code",
   "execution_count": null,
   "id": "b0160f2b",
   "metadata": {},
   "outputs": [],
   "source": [
    "import os\n",
    "shutdown=input(\"Do you want to shut your PC?(yes/no): \")\n",
    "if shutdown=='no':\n",
    "    exit()\n",
    "else:\n",
    "    os.system('shutdown / s /t 1')"
   ]
  },
  {
   "cell_type": "markdown",
   "id": "f497a5c0",
   "metadata": {},
   "source": [
    "Write a function which will take input as a list with any kind of numeric value and give an out as a multiplication of all the numeric data l=[3.5,6.56,'dhruv','chauhan','bootcamp']"
   ]
  },
  {
   "cell_type": "code",
   "execution_count": 4,
   "id": "6c9e9f66",
   "metadata": {},
   "outputs": [
    {
     "name": "stdout",
     "output_type": "stream",
     "text": [
      "Enter how much element you want to enter in a list2\n",
      "Enter elements in a list11\n",
      "Enter elements in a list11\n",
      "1\n"
     ]
    }
   ],
   "source": [
    "a=int(input(\"Enter how much element you want to enter in a list\"))\n",
    "l=list()\n",
    "for i in range(0,a):\n",
    "    user=input(\"Enter elements in a list\")\n",
    "    l=l+[user]\n",
    "def sums(l):\n",
    "    sum=1\n",
    "    b=list()\n",
    "    for i in range(0,len(l)):\n",
    "        if type(l[i])==int:\n",
    "            print('check')\n",
    "            sum=sum*i\n",
    "            b.append(sum[0])\n",
    "        return(sum)\n",
    "a=sums(l)\n",
    "print(a)"
   ]
  },
  {
   "cell_type": "markdown",
   "id": "02bcc582",
   "metadata": {},
   "source": [
    "Write a function which will be able to read all the mails"
   ]
  },
  {
   "cell_type": "code",
   "execution_count": null,
   "id": "c5b18c0c",
   "metadata": {},
   "outputs": [],
   "source": []
  },
  {
   "cell_type": "markdown",
   "id": "71c259c4",
   "metadata": {},
   "source": [
    "Write a function which will be able to send mail to anyone"
   ]
  },
  {
   "cell_type": "code",
   "execution_count": 1,
   "id": "25575e46",
   "metadata": {},
   "outputs": [],
   "source": [
    "import smtplib , ssl\n",
    "# creates SMTP session\n",
    "s = smtplib.SMTP('smtp.gmail.com', 587)\n",
    " \n",
    "# start TLS for security\n",
    "s.starttls()\n",
    " \n",
    "# Authentication\n",
    "s.login(\"dhruv0982@chitkara.edu.in\", \"sender_email_id_password\")\n",
    " \n",
    "# message to be sent\n",
    "message = \"Message_you_need_to_send\"\n",
    " \n",
    "# sending the mail\n",
    "s.sendmail(\"sender_email_id\", \"receiver_email_id\", message)\n",
    " \n",
    "# terminating the session\n",
    "s.quit()"
   ]
  },
  {
   "cell_type": "markdown",
   "id": "8a02f2c0",
   "metadata": {},
   "source": [
    "Write a function which will be able to read a doc file from your system"
   ]
  },
  {
   "cell_type": "code",
   "execution_count": 11,
   "id": "12917cff",
   "metadata": {
    "scrolled": false
   },
   "outputs": [
    {
     "name": "stdout",
     "output_type": "stream",
     "text": [
      "Reading this document from a python library\n"
     ]
    }
   ],
   "source": [
    "import docx2txt\n",
    "a=docx2txt.process('check.docx')\n",
    "print(a)\n",
    "#\"C:\\Users\\niced\\Desktop\\PYTHON ASSIGNMENT.docx\""
   ]
  },
  {
   "cell_type": "code",
   "execution_count": null,
   "id": "6d29b52d",
   "metadata": {},
   "outputs": [],
   "source": [
    "import # creates SMTP session\n",
    "s = smtplib.SMTP('smtp.gmail.com', 587)\n",
    " \n",
    "# start TLS for security\n",
    "s.starttls()\n",
    " \n",
    "# Authentication\n",
    "s.login(\"sender_email_id\", \"sender_email_id_password\")\n",
    " \n",
    "# message to be sent\n",
    "message = \"Message_you_need_to_send\"\n",
    " \n",
    "# sending the mail\n",
    "s.sendmail(\"sender_email_id\", \"receiver_email_id\", message)\n",
    " \n",
    "# terminating the session\n",
    "s.quit()"
   ]
  },
  {
   "cell_type": "code",
   "execution_count": 7,
   "id": "e3033c2a",
   "metadata": {},
   "outputs": [
    {
     "name": "stdout",
     "output_type": "stream",
     "text": [
      "<class 'list'>\n",
      "<class 'str'>\n",
      "hello\n",
      "<class 'int'>\n",
      "12\n",
      "<class 'int'>\n",
      "11\n"
     ]
    }
   ],
   "source": [
    "a=['hello',12,11]\n",
    "print(type(a))\n",
    "for i in a:\n",
    "    print(type(i))\n",
    "    print(i)"
   ]
  },
  {
   "cell_type": "code",
   "execution_count": 11,
   "id": "7bea4f75",
   "metadata": {},
   "outputs": [
    {
     "data": {
      "text/plain": [
       "'192.168.71.229'"
      ]
     },
     "execution_count": 11,
     "metadata": {},
     "output_type": "execute_result"
    }
   ],
   "source": []
  },
  {
   "cell_type": "code",
   "execution_count": null,
   "id": "7a50bc77",
   "metadata": {},
   "outputs": [],
   "source": []
  }
 ],
 "metadata": {
  "kernelspec": {
   "display_name": "Python 3 (ipykernel)",
   "language": "python",
   "name": "python3"
  },
  "language_info": {
   "codemirror_mode": {
    "name": "ipython",
    "version": 3
   },
   "file_extension": ".py",
   "mimetype": "text/x-python",
   "name": "python",
   "nbconvert_exporter": "python",
   "pygments_lexer": "ipython3",
   "version": "3.9.7"
  }
 },
 "nbformat": 4,
 "nbformat_minor": 5
}
