{
 "cells": [
  {
   "cell_type": "code",
   "execution_count": 1,
   "id": "f83af3d9",
   "metadata": {},
   "outputs": [
    {
     "data": {
      "text/plain": [
       "'\\nThere are two types of error\\n    1)Syntax error\\n    2)Logical error\\n'"
      ]
     },
     "execution_count": 1,
     "metadata": {},
     "output_type": "execute_result"
    }
   ],
   "source": [
    "\"\"\"\n",
    "There are two types of error\n",
    "    1)Syntax error\n",
    "    2)Logical error\n",
    "\"\"\"\n",
    "    "
   ]
  },
  {
   "cell_type": "code",
   "execution_count": 4,
   "id": "ae3be42d",
   "metadata": {},
   "outputs": [
    {
     "data": {
      "text/plain": [
       "<_io.TextIOWrapper name='check.docx' mode='r' encoding='cp1252'>"
      ]
     },
     "execution_count": 4,
     "metadata": {},
     "output_type": "execute_result"
    }
   ],
   "source": [
    "open(\"check.docx\")"
   ]
  },
  {
   "cell_type": "code",
   "execution_count": 3,
   "id": "4d2e8726",
   "metadata": {},
   "outputs": [
    {
     "name": "stdout",
     "output_type": "stream",
     "text": [
      "['ArithmeticError', 'AssertionError', 'AttributeError', 'BaseException', 'BlockingIOError', 'BrokenPipeError', 'BufferError', 'BytesWarning', 'ChildProcessError', 'ConnectionAbortedError', 'ConnectionError', 'ConnectionRefusedError', 'ConnectionResetError', 'DeprecationWarning', 'EOFError', 'Ellipsis', 'EnvironmentError', 'Exception', 'False', 'FileExistsError', 'FileNotFoundError', 'FloatingPointError', 'FutureWarning', 'GeneratorExit', 'IOError', 'ImportError', 'ImportWarning', 'IndentationError', 'IndexError', 'InterruptedError', 'IsADirectoryError', 'KeyError', 'KeyboardInterrupt', 'LookupError', 'MemoryError', 'ModuleNotFoundError', 'NameError', 'None', 'NotADirectoryError', 'NotImplemented', 'NotImplementedError', 'OSError', 'OverflowError', 'PendingDeprecationWarning', 'PermissionError', 'ProcessLookupError', 'RecursionError', 'ReferenceError', 'ResourceWarning', 'RuntimeError', 'RuntimeWarning', 'StopAsyncIteration', 'StopIteration', 'SyntaxError', 'SyntaxWarning', 'SystemError', 'SystemExit', 'TabError', 'TimeoutError', 'True', 'TypeError', 'UnboundLocalError', 'UnicodeDecodeError', 'UnicodeEncodeError', 'UnicodeError', 'UnicodeTranslateError', 'UnicodeWarning', 'UserWarning', 'ValueError', 'Warning', 'WindowsError', 'ZeroDivisionError', '__IPYTHON__', '__build_class__', '__debug__', '__doc__', '__import__', '__loader__', '__name__', '__package__', '__spec__', 'abs', 'all', 'any', 'ascii', 'bin', 'bool', 'breakpoint', 'bytearray', 'bytes', 'callable', 'chr', 'classmethod', 'compile', 'complex', 'copyright', 'credits', 'delattr', 'dict', 'dir', 'display', 'divmod', 'enumerate', 'eval', 'exec', 'execfile', 'filter', 'float', 'format', 'frozenset', 'get_ipython', 'getattr', 'globals', 'hasattr', 'hash', 'help', 'hex', 'id', 'input', 'int', 'isinstance', 'issubclass', 'iter', 'len', 'license', 'list', 'locals', 'map', 'max', 'memoryview', 'min', 'next', 'object', 'oct', 'open', 'ord', 'pow', 'print', 'property', 'range', 'repr', 'reversed', 'round', 'runfile', 'set', 'setattr', 'slice', 'sorted', 'staticmethod', 'str', 'sum', 'super', 'tuple', 'type', 'vars', 'zip']\n"
     ]
    }
   ],
   "source": [
    "print(dir(locals()['__builtins__']))"
   ]
  },
  {
   "cell_type": "markdown",
   "id": "a38504a7",
   "metadata": {},
   "source": [
    "# Assertion Error"
   ]
  },
  {
   "cell_type": "code",
   "execution_count": 5,
   "id": "fcf9ed5a",
   "metadata": {},
   "outputs": [
    {
     "ename": "AssertionError",
     "evalue": "Invalid oPeration",
     "output_type": "error",
     "traceback": [
      "\u001b[1;31m---------------------------------------------------------------------------\u001b[0m",
      "\u001b[1;31mAssertionError\u001b[0m                            Traceback (most recent call last)",
      "\u001b[1;32m~\\AppData\\Local\\Temp/ipykernel_18048/2047526189.py\u001b[0m in \u001b[0;36m<module>\u001b[1;34m\u001b[0m\n\u001b[0;32m      1\u001b[0m \u001b[0mx\u001b[0m\u001b[1;33m=\u001b[0m\u001b[1;36m1\u001b[0m\u001b[1;33m\u001b[0m\u001b[1;33m\u001b[0m\u001b[0m\n\u001b[0;32m      2\u001b[0m \u001b[0my\u001b[0m\u001b[1;33m=\u001b[0m\u001b[1;36m0\u001b[0m\u001b[1;33m\u001b[0m\u001b[1;33m\u001b[0m\u001b[0m\n\u001b[1;32m----> 3\u001b[1;33m \u001b[1;32massert\u001b[0m \u001b[0my\u001b[0m\u001b[1;33m!=\u001b[0m\u001b[1;36m0\u001b[0m\u001b[1;33m,\u001b[0m\u001b[1;34m\"Invalid oPeration\"\u001b[0m\u001b[1;33m\u001b[0m\u001b[1;33m\u001b[0m\u001b[0m\n\u001b[0m\u001b[0;32m      4\u001b[0m \u001b[0mprint\u001b[0m\u001b[1;33m(\u001b[0m\u001b[0mx\u001b[0m\u001b[1;33m/\u001b[0m\u001b[0my\u001b[0m\u001b[1;33m)\u001b[0m\u001b[1;33m\u001b[0m\u001b[1;33m\u001b[0m\u001b[0m\n",
      "\u001b[1;31mAssertionError\u001b[0m: Invalid oPeration"
     ]
    }
   ],
   "source": [
    "x=1\n",
    "y=0\n",
    "assert y!=0,\"Invalid oPeration\"\n",
    "print(x/y)"
   ]
  },
  {
   "cell_type": "markdown",
   "id": "27570e97",
   "metadata": {},
   "source": [
    "Yaha assert mai condition change kr di isliye koi bhi error nahi aaya"
   ]
  },
  {
   "cell_type": "code",
   "execution_count": 8,
   "id": "a765c89a",
   "metadata": {},
   "outputs": [
    {
     "name": "stdout",
     "output_type": "stream",
     "text": [
      "0.3333333333333333\n"
     ]
    }
   ],
   "source": [
    "x=1\n",
    "y=3\n",
    "assert y==3,\"Invalid oPeration\"\n",
    "print(x/y)"
   ]
  },
  {
   "cell_type": "markdown",
   "id": "d00bccd2",
   "metadata": {},
   "source": [
    "# Attribute error"
   ]
  },
  {
   "cell_type": "code",
   "execution_count": 9,
   "id": "385dd54d",
   "metadata": {},
   "outputs": [],
   "source": [
    "y=10"
   ]
  },
  {
   "cell_type": "code",
   "execution_count": 10,
   "id": "5b537c08",
   "metadata": {},
   "outputs": [
    {
     "ename": "AttributeError",
     "evalue": "'int' object has no attribute 'append'",
     "output_type": "error",
     "traceback": [
      "\u001b[1;31m---------------------------------------------------------------------------\u001b[0m",
      "\u001b[1;31mAttributeError\u001b[0m                            Traceback (most recent call last)",
      "\u001b[1;32m~\\AppData\\Local\\Temp/ipykernel_18048/1570400079.py\u001b[0m in \u001b[0;36m<module>\u001b[1;34m\u001b[0m\n\u001b[1;32m----> 1\u001b[1;33m \u001b[0my\u001b[0m\u001b[1;33m.\u001b[0m\u001b[0mappend\u001b[0m\u001b[1;33m(\u001b[0m\u001b[1;36m6\u001b[0m\u001b[1;33m)\u001b[0m\u001b[1;33m\u001b[0m\u001b[1;33m\u001b[0m\u001b[0m\n\u001b[0m",
      "\u001b[1;31mAttributeError\u001b[0m: 'int' object has no attribute 'append'"
     ]
    }
   ],
   "source": [
    "y.append(6)"
   ]
  },
  {
   "cell_type": "markdown",
   "id": "015a725e",
   "metadata": {},
   "source": [
    "# Index Error"
   ]
  },
  {
   "cell_type": "code",
   "execution_count": 11,
   "id": "b87ea3e6",
   "metadata": {},
   "outputs": [],
   "source": [
    "mylist=[1,2,3,4,5,6]"
   ]
  },
  {
   "cell_type": "code",
   "execution_count": 15,
   "id": "049b07f3",
   "metadata": {},
   "outputs": [
    {
     "ename": "IndexError",
     "evalue": "list index out of range",
     "output_type": "error",
     "traceback": [
      "\u001b[1;31m---------------------------------------------------------------------------\u001b[0m",
      "\u001b[1;31mIndexError\u001b[0m                                Traceback (most recent call last)",
      "\u001b[1;32m~\\AppData\\Local\\Temp/ipykernel_18048/1722322353.py\u001b[0m in \u001b[0;36m<module>\u001b[1;34m\u001b[0m\n\u001b[1;32m----> 1\u001b[1;33m \u001b[0mmylist\u001b[0m\u001b[1;33m[\u001b[0m\u001b[1;36m10\u001b[0m\u001b[1;33m]\u001b[0m\u001b[1;33m\u001b[0m\u001b[1;33m\u001b[0m\u001b[0m\n\u001b[0m",
      "\u001b[1;31mIndexError\u001b[0m: list index out of range"
     ]
    }
   ],
   "source": [
    "mylist[10]"
   ]
  },
  {
   "cell_type": "markdown",
   "id": "90703bd0",
   "metadata": {},
   "source": [
    "# Key Error"
   ]
  },
  {
   "cell_type": "code",
   "execution_count": 18,
   "id": "d697e6ba",
   "metadata": {},
   "outputs": [],
   "source": [
    "mydict={\n",
    "    \"name\":\"Dhruv\",\n",
    "    \"course\":\"Python\"\n",
    "}"
   ]
  },
  {
   "cell_type": "code",
   "execution_count": 19,
   "id": "a1fcf07d",
   "metadata": {},
   "outputs": [
    {
     "ename": "KeyError",
     "evalue": "'age'",
     "output_type": "error",
     "traceback": [
      "\u001b[1;31m---------------------------------------------------------------------------\u001b[0m",
      "\u001b[1;31mKeyError\u001b[0m                                  Traceback (most recent call last)",
      "\u001b[1;32m~\\AppData\\Local\\Temp/ipykernel_18048/3265668038.py\u001b[0m in \u001b[0;36m<module>\u001b[1;34m\u001b[0m\n\u001b[1;32m----> 1\u001b[1;33m \u001b[0mmydict\u001b[0m\u001b[1;33m[\u001b[0m\u001b[1;34m\"age\"\u001b[0m\u001b[1;33m]\u001b[0m\u001b[1;33m\u001b[0m\u001b[1;33m\u001b[0m\u001b[0m\n\u001b[0m",
      "\u001b[1;31mKeyError\u001b[0m: 'age'"
     ]
    }
   ],
   "source": [
    "mydict[\"age\"]"
   ]
  },
  {
   "cell_type": "markdown",
   "id": "179bc2d4",
   "metadata": {},
   "source": [
    "# Name Error"
   ]
  },
  {
   "cell_type": "code",
   "execution_count": 20,
   "id": "de34622e",
   "metadata": {},
   "outputs": [
    {
     "ename": "NameError",
     "evalue": "name 'kind' is not defined",
     "output_type": "error",
     "traceback": [
      "\u001b[1;31m---------------------------------------------------------------------------\u001b[0m",
      "\u001b[1;31mNameError\u001b[0m                                 Traceback (most recent call last)",
      "\u001b[1;32m~\\AppData\\Local\\Temp/ipykernel_18048/3190098354.py\u001b[0m in \u001b[0;36m<module>\u001b[1;34m\u001b[0m\n\u001b[1;32m----> 1\u001b[1;33m \u001b[0mprint\u001b[0m\u001b[1;33m(\u001b[0m\u001b[0mkind\u001b[0m\u001b[1;33m)\u001b[0m\u001b[1;33m\u001b[0m\u001b[1;33m\u001b[0m\u001b[0m\n\u001b[0m",
      "\u001b[1;31mNameError\u001b[0m: name 'kind' is not defined"
     ]
    }
   ],
   "source": [
    "print(kind)"
   ]
  },
  {
   "cell_type": "markdown",
   "id": "4582c6a0",
   "metadata": {},
   "source": [
    "# Logical error"
   ]
  },
  {
   "cell_type": "code",
   "execution_count": 21,
   "id": "d51b1621",
   "metadata": {},
   "outputs": [],
   "source": [
    "import math"
   ]
  },
  {
   "cell_type": "code",
   "execution_count": 24,
   "id": "d1995ce5",
   "metadata": {},
   "outputs": [
    {
     "ename": "ValueError",
     "evalue": "math domain error",
     "output_type": "error",
     "traceback": [
      "\u001b[1;31m---------------------------------------------------------------------------\u001b[0m",
      "\u001b[1;31mValueError\u001b[0m                                Traceback (most recent call last)",
      "\u001b[1;32m~\\AppData\\Local\\Temp/ipykernel_18048/3232150687.py\u001b[0m in \u001b[0;36m<module>\u001b[1;34m\u001b[0m\n\u001b[1;32m----> 1\u001b[1;33m \u001b[0mmath\u001b[0m\u001b[1;33m.\u001b[0m\u001b[0msqrt\u001b[0m\u001b[1;33m(\u001b[0m\u001b[1;33m-\u001b[0m\u001b[1;36m200\u001b[0m\u001b[1;33m)\u001b[0m\u001b[1;33m\u001b[0m\u001b[1;33m\u001b[0m\u001b[0m\n\u001b[0m",
      "\u001b[1;31mValueError\u001b[0m: math domain error"
     ]
    }
   ],
   "source": [
    "math.sqrt(-200)"
   ]
  },
  {
   "cell_type": "markdown",
   "id": "85b24d13",
   "metadata": {},
   "source": [
    "# Handling all the Error"
   ]
  },
  {
   "cell_type": "code",
   "execution_count": 25,
   "id": "f2ede587",
   "metadata": {},
   "outputs": [
    {
     "name": "stdout",
     "output_type": "stream",
     "text": [
      "ENetr a number0\n"
     ]
    },
    {
     "ename": "ZeroDivisionError",
     "evalue": "division by zero",
     "output_type": "error",
     "traceback": [
      "\u001b[1;31m---------------------------------------------------------------------------\u001b[0m",
      "\u001b[1;31mZeroDivisionError\u001b[0m                         Traceback (most recent call last)",
      "\u001b[1;32m~\\AppData\\Local\\Temp/ipykernel_18048/3343885957.py\u001b[0m in \u001b[0;36m<module>\u001b[1;34m\u001b[0m\n\u001b[0;32m      1\u001b[0m \u001b[0ma\u001b[0m\u001b[1;33m=\u001b[0m\u001b[1;36m6\u001b[0m\u001b[1;33m\u001b[0m\u001b[1;33m\u001b[0m\u001b[0m\n\u001b[0;32m      2\u001b[0m \u001b[0mb\u001b[0m\u001b[1;33m=\u001b[0m\u001b[0mint\u001b[0m\u001b[1;33m(\u001b[0m\u001b[0minput\u001b[0m\u001b[1;33m(\u001b[0m\u001b[1;34m\"ENetr a number\"\u001b[0m\u001b[1;33m)\u001b[0m\u001b[1;33m)\u001b[0m\u001b[1;33m\u001b[0m\u001b[1;33m\u001b[0m\u001b[0m\n\u001b[1;32m----> 3\u001b[1;33m \u001b[0ma\u001b[0m\u001b[1;33m/\u001b[0m\u001b[0mb\u001b[0m\u001b[1;33m\u001b[0m\u001b[1;33m\u001b[0m\u001b[0m\n\u001b[0m",
      "\u001b[1;31mZeroDivisionError\u001b[0m: division by zero"
     ]
    }
   ],
   "source": [
    "a=6\n",
    "b=int(input(\"Enter a number\"))\n",
    "a/b"
   ]
  },
  {
   "cell_type": "code",
   "execution_count": 28,
   "id": "a3211cd4",
   "metadata": {},
   "outputs": [
    {
     "name": "stdout",
     "output_type": "stream",
     "text": [
      "can not divide by zero provide diffrent number\n"
     ]
    }
   ],
   "source": [
    "try:\n",
    "    a=10\n",
    "    b=0\n",
    "    c=a/b\n",
    "    print(c)\n",
    "except:\n",
    "    print(\"can not divide by zero provide diffrent number\")"
   ]
  },
  {
   "cell_type": "code",
   "execution_count": 32,
   "id": "a542e2b8",
   "metadata": {},
   "outputs": [
    {
     "name": "stdout",
     "output_type": "stream",
     "text": [
      "File does not exist\n",
      "This is my outer block\n"
     ]
    }
   ],
   "source": [
    "try:\n",
    "    f=open(\"test.txt\",'r')\n",
    "    f.write(\"ineuron\")\n",
    "except:\n",
    "    print(\"File does not exist\")\n",
    "    \n",
    "print(\"This is my outer block\")"
   ]
  },
  {
   "cell_type": "code",
   "execution_count": 36,
   "id": "6b22b3c6",
   "metadata": {},
   "outputs": [
    {
     "name": "stdout",
     "output_type": "stream",
     "text": [
      "4\n",
      "5\n",
      "6\n",
      "7\n",
      "8\n",
      "9\n",
      "THis is not working\n"
     ]
    }
   ],
   "source": [
    "l=[4,5,6,7,8,9]\n",
    "try:\n",
    "    for i in range(len(l)+1):\n",
    "        print(l[i])\n",
    "except:\n",
    "    print(\"THis is not working\")"
   ]
  },
  {
   "cell_type": "code",
   "execution_count": 35,
   "id": "e6599f50",
   "metadata": {},
   "outputs": [
    {
     "name": "stdout",
     "output_type": "stream",
     "text": [
      "4\n",
      "5\n",
      "6\n",
      "7\n",
      "8\n",
      "9\n"
     ]
    },
    {
     "ename": "IndexError",
     "evalue": "list index out of range",
     "output_type": "error",
     "traceback": [
      "\u001b[1;31m---------------------------------------------------------------------------\u001b[0m",
      "\u001b[1;31mIndexError\u001b[0m                                Traceback (most recent call last)",
      "\u001b[1;32m~\\AppData\\Local\\Temp/ipykernel_18048/2720045892.py\u001b[0m in \u001b[0;36m<module>\u001b[1;34m\u001b[0m\n\u001b[0;32m      1\u001b[0m \u001b[0ml\u001b[0m\u001b[1;33m=\u001b[0m\u001b[1;33m[\u001b[0m\u001b[1;36m4\u001b[0m\u001b[1;33m,\u001b[0m\u001b[1;36m5\u001b[0m\u001b[1;33m,\u001b[0m\u001b[1;36m6\u001b[0m\u001b[1;33m,\u001b[0m\u001b[1;36m7\u001b[0m\u001b[1;33m,\u001b[0m\u001b[1;36m8\u001b[0m\u001b[1;33m,\u001b[0m\u001b[1;36m9\u001b[0m\u001b[1;33m]\u001b[0m\u001b[1;33m\u001b[0m\u001b[1;33m\u001b[0m\u001b[0m\n\u001b[0;32m      2\u001b[0m \u001b[1;32mfor\u001b[0m \u001b[0mi\u001b[0m \u001b[1;32min\u001b[0m \u001b[0mrange\u001b[0m\u001b[1;33m(\u001b[0m\u001b[0mlen\u001b[0m\u001b[1;33m(\u001b[0m\u001b[0ml\u001b[0m\u001b[1;33m)\u001b[0m\u001b[1;33m+\u001b[0m\u001b[1;36m1\u001b[0m\u001b[1;33m)\u001b[0m\u001b[1;33m:\u001b[0m\u001b[1;33m\u001b[0m\u001b[1;33m\u001b[0m\u001b[0m\n\u001b[1;32m----> 3\u001b[1;33m     \u001b[0mprint\u001b[0m\u001b[1;33m(\u001b[0m\u001b[0ml\u001b[0m\u001b[1;33m[\u001b[0m\u001b[0mi\u001b[0m\u001b[1;33m]\u001b[0m\u001b[1;33m)\u001b[0m\u001b[1;33m\u001b[0m\u001b[1;33m\u001b[0m\u001b[0m\n\u001b[0m",
      "\u001b[1;31mIndexError\u001b[0m: list index out of range"
     ]
    }
   ],
   "source": [
    "l=[4,5,6,7,8,9]\n",
    "for i in range(len(l)+1):\n",
    "    print(l[i])"
   ]
  },
  {
   "cell_type": "code",
   "execution_count": 69,
   "id": "e4744043",
   "metadata": {},
   "outputs": [
    {
     "name": "stdout",
     "output_type": "stream",
     "text": [
      "Enter a numberk\n",
      "invalid literal for int() with base 10: 'k'\n",
      "haan bhai\n"
     ]
    }
   ],
   "source": [
    "try:\n",
    "    a=int(input(\"Enter a number\"))\n",
    "    b=int(input(\"Enter a number\"))\n",
    "except Exception as e:\n",
    "    print(e)\n",
    "print(\"haan bhai\")"
   ]
  },
  {
   "cell_type": "markdown",
   "id": "96de1953",
   "metadata": {},
   "source": [
    "TO HANDLE A INDIVIDUAL ERROR"
   ]
  },
  {
   "cell_type": "code",
   "execution_count": 70,
   "id": "43bb0161",
   "metadata": {},
   "outputs": [
    {
     "name": "stdout",
     "output_type": "stream",
     "text": [
      "Enter a numbera\n",
      "Entered value is wrong\n"
     ]
    }
   ],
   "source": [
    "try:\n",
    "    a=int(input(\"Enter a number\"))\n",
    "    b=int(input(\"Enter a number\"))\n",
    "    c=a/b\n",
    "    print(\"answer\",c)\n",
    "except ValueError:\n",
    "    print(\"Entered value is wrong\")\n",
    "except ZeroDivisionError:\n",
    "    print(\"can not divide by zero\")"
   ]
  },
  {
   "cell_type": "code",
   "execution_count": 71,
   "id": "04e76bc6",
   "metadata": {},
   "outputs": [
    {
     "name": "stdout",
     "output_type": "stream",
     "text": [
      "The i is  a\n",
      "oops  <class 'ValueError'> occured\n",
      "next i \n",
      "The i is  0\n",
      "oops  <class 'ZeroDivisionError'> occured\n",
      "next i \n",
      "The i is  2\n",
      "The reciprocal of i 2 is 0.5\n"
     ]
    }
   ],
   "source": [
    "import sys\n",
    "randomList=['a',0,2]\n",
    "for i in randomList:\n",
    "    try:\n",
    "        print(\"The i is \",i)\n",
    "        r=1/int(i)\n",
    "        break;\n",
    "    except:\n",
    "        print(\"oops \",sys.exc_info()[0],\"occured\")\n",
    "        print(\"next i \")\n",
    "print(f\"The reciprocal of i {i} is {r}\")"
   ]
  },
  {
   "cell_type": "code",
   "execution_count": 72,
   "id": "a4ade6b6",
   "metadata": {},
   "outputs": [
    {
     "name": "stdout",
     "output_type": "stream",
     "text": [
      "The i is  a\n",
      "oops  invalid literal for int() with base 10: 'a' occured\n",
      "next i \n",
      "The i is  0\n",
      "oops  division by zero occured\n",
      "next i \n",
      "The i is  2\n",
      "The reciprocal of i 2 is 0.5\n"
     ]
    }
   ],
   "source": [
    "randomList=['a',0,2]\n",
    "for i in randomList:\n",
    "    try:\n",
    "        print(\"The i is \",i)\n",
    "        r=1/int(i)\n",
    "        break;\n",
    "    except Exception as e:\n",
    "        print(\"oops \",e,\"occured\")\n",
    "        print(\"next i \")\n",
    "print(f\"The reciprocal of i {i} is {r}\")"
   ]
  },
  {
   "cell_type": "code",
   "execution_count": 73,
   "id": "215b3d09",
   "metadata": {},
   "outputs": [
    {
     "ename": "IndentationError",
     "evalue": "expected an indented block (Temp/ipykernel_18048/590243125.py, line 3)",
     "output_type": "error",
     "traceback": [
      "\u001b[1;36m  File \u001b[1;32m\"C:\\Users\\niced\\AppData\\Local\\Temp/ipykernel_18048/590243125.py\"\u001b[1;36m, line \u001b[1;32m3\u001b[0m\n\u001b[1;33m    except Exception:\u001b[0m\n\u001b[1;37m    ^\u001b[0m\n\u001b[1;31mIndentationError\u001b[0m\u001b[1;31m:\u001b[0m expected an indented block\n"
     ]
    }
   ],
   "source": [
    "try:\n",
    "    #block of a code\n",
    "except Exception:\n",
    "   #block of code \n",
    "else:\n",
    "    #this code executes when exception not occured"
   ]
  },
  {
   "cell_type": "code",
   "execution_count": 74,
   "id": "8ea5fc85",
   "metadata": {},
   "outputs": [
    {
     "name": "stdout",
     "output_type": "stream",
     "text": [
      "Enter a number7\n",
      "Not a even number\n"
     ]
    }
   ],
   "source": [
    "try:\n",
    "    num=int(input(\"Enter a number\"))\n",
    "    assert num%2==0\n",
    "except:\n",
    "    print(\"Not a even number\")\n",
    "else:\n",
    "    reciprocal=1/num\n",
    "    print(reciprocal)"
   ]
  },
  {
   "cell_type": "code",
   "execution_count": 75,
   "id": "9bda5f90",
   "metadata": {},
   "outputs": [
    {
     "name": "stdout",
     "output_type": "stream",
     "text": [
      "Enter a number4\n",
      "Enter a number0\n",
      "can not divide by zero\n"
     ]
    }
   ],
   "source": [
    "try:\n",
    "    a=int(input(\"Enter a number\"))\n",
    "    b=int(input(\"Enter a number\"))\n",
    "    c=a/b\n",
    "    print(\"answer\",c)\n",
    "except ZeroDivisionError:\n",
    "    print(\"can not divide by zero\")\n",
    "else:\n",
    "    print('else')"
   ]
  },
  {
   "cell_type": "code",
   "execution_count": 76,
   "id": "542f634c",
   "metadata": {},
   "outputs": [],
   "source": [
    "def divide(x,y):\n",
    "    try:\n",
    "        print(x/y)\n",
    "    except ZeroDivisionError as e:\n",
    "        print(e)\n",
    "    else:\n",
    "        print(\"else block\")\n",
    "    finally:\n",
    "        print(\"final block \")"
   ]
  },
  {
   "cell_type": "code",
   "execution_count": 77,
   "id": "7e7c83fc",
   "metadata": {},
   "outputs": [
    {
     "name": "stdout",
     "output_type": "stream",
     "text": [
      "5.0\n",
      "else block\n",
      "final block \n",
      "division by zero\n",
      "final block \n",
      "2.5\n",
      "else block\n",
      "final block \n"
     ]
    }
   ],
   "source": [
    "divide(10,2)\n",
    "divide(10,0)\n",
    "divide(10,4)"
   ]
  },
  {
   "cell_type": "code",
   "execution_count": 78,
   "id": "49df8239",
   "metadata": {},
   "outputs": [
    {
     "name": "stdout",
     "output_type": "stream",
     "text": [
      "Outer try block\n",
      "nested try block\n",
      "1.6666666666666667\n"
     ]
    }
   ],
   "source": [
    "x=20\n",
    "y=12 #0\n",
    "try:\n",
    "    print(\"Outer try block\")\n",
    "    try:\n",
    "        print(\"nested try block\")\n",
    "        print(x/y)\n",
    "    except TypeError as te:\n",
    "        print(\"nested except block\")\n",
    "        print(te)\n",
    "except ZeroDivisionError as ze:\n",
    "    print(\"outer except block\")\n",
    "    print(ze)"
   ]
  },
  {
   "cell_type": "code",
   "execution_count": 79,
   "id": "1d29bcef",
   "metadata": {},
   "outputs": [
    {
     "name": "stdout",
     "output_type": "stream",
     "text": [
      "Enter a integer:k\n",
      "you did not eneter a integer,please enter a integer\n",
      "Enter a integer:a\n",
      "you did not eneter a integer,please enter a integer\n",
      "Enter a integer:5\n"
     ]
    },
    {
     "data": {
      "text/plain": [
       "'Yes , you have entered the integer'"
      ]
     },
     "execution_count": 79,
     "metadata": {},
     "output_type": "execute_result"
    }
   ],
   "source": [
    "def fun():\n",
    "    flag=True\n",
    "    while flag:\n",
    "        try:\n",
    "            a=int(input(\"Enter a integer:\"))\n",
    "            if type(a)==int:\n",
    "                return \"Yes , you have entered the integer\"\n",
    "            flag=False\n",
    "        except Exception as e:\n",
    "            print(\"you did not eneter a integer,please enter a integer\")\n",
    "fun()"
   ]
  },
  {
   "cell_type": "code",
   "execution_count": 80,
   "id": "ecb2517a",
   "metadata": {},
   "outputs": [
    {
     "name": "stdout",
     "output_type": "stream",
     "text": [
      "There is no issue with the code\n"
     ]
    }
   ],
   "source": [
    "try:\n",
    "    l=[4,5,6,7,8]\n",
    "    l[1]\n",
    "except:\n",
    "    print(\"There is issue with my code\")\n",
    "    t=(4,5,6,7,8,9)\n",
    "    print(t)\n",
    "    try:\n",
    "        t[0]='Dhruv'\n",
    "        try:\n",
    "            list(t)\n",
    "            print(t)\n",
    "        except:\n",
    "            pass\n",
    "    except:\n",
    "        pass\n",
    "else:\n",
    "    print(\"There is no issue with the code\")"
   ]
  },
  {
   "cell_type": "code",
   "execution_count": null,
   "id": "30f692a8",
   "metadata": {},
   "outputs": [],
   "source": []
  }
 ],
 "metadata": {
  "kernelspec": {
   "display_name": "Python 3 (ipykernel)",
   "language": "python",
   "name": "python3"
  },
  "language_info": {
   "codemirror_mode": {
    "name": "ipython",
    "version": 3
   },
   "file_extension": ".py",
   "mimetype": "text/x-python",
   "name": "python",
   "nbconvert_exporter": "python",
   "pygments_lexer": "ipython3",
   "version": "3.9.7"
  }
 },
 "nbformat": 4,
 "nbformat_minor": 5
}
