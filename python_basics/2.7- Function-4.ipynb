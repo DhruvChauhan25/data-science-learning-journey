{
 "cells": [
  {
   "cell_type": "code",
   "execution_count": 7,
   "id": "e113e554",
   "metadata": {},
   "outputs": [],
   "source": [
    "def test1(func):\n",
    "    def test2():\n",
    "        print(\"I am inside test 2\")\n",
    "        func()\n",
    "        print(\"Function executed\")\n",
    "        return func()\n",
    "    return test2\n",
    "    "
   ]
  },
  {
   "cell_type": "code",
   "execution_count": 8,
   "id": "47edbd8e",
   "metadata": {},
   "outputs": [
    {
     "name": "stdout",
     "output_type": "stream",
     "text": [
      "I am inside test 2\n",
      "This is my test3\n",
      "Function executed\n",
      "This is my test3\n"
     ]
    }
   ],
   "source": [
    "@test1\n",
    "def test3():\n",
    "    print(\"This is my test3\")\n",
    "test3()"
   ]
  },
  {
   "cell_type": "code",
   "execution_count": 12,
   "id": "e15b152e",
   "metadata": {},
   "outputs": [],
   "source": [
    "@test1\n",
    "def test4():\n",
    "    return 5+6\n"
   ]
  },
  {
   "cell_type": "markdown",
   "id": "1c88d219",
   "metadata": {},
   "source": [
    "none type se int bnaya function ko test 2 mai return dekr"
   ]
  },
  {
   "cell_type": "code",
   "execution_count": 13,
   "id": "b7291d0d",
   "metadata": {},
   "outputs": [
    {
     "name": "stdout",
     "output_type": "stream",
     "text": [
      "I am inside test 2\n",
      "Function executed\n"
     ]
    },
    {
     "data": {
      "text/plain": [
       "22"
      ]
     },
     "execution_count": 13,
     "metadata": {},
     "output_type": "execute_result"
    }
   ],
   "source": [
    "test4()+11"
   ]
  },
  {
   "cell_type": "code",
   "execution_count": 27,
   "id": "70a9b738",
   "metadata": {},
   "outputs": [],
   "source": [
    "def test5(func):\n",
    "    def test6(*args,**kwargs):\n",
    "        func(*args,**kwargs)\n",
    "        print(\"This is my decorator\")\n",
    "        return func(*args,**kwargs)\n",
    "    return test6"
   ]
  },
  {
   "cell_type": "code",
   "execution_count": 28,
   "id": "c3d0585e",
   "metadata": {},
   "outputs": [],
   "source": [
    "@test5\n",
    "def test7(a,b):\n",
    "    return a+b"
   ]
  },
  {
   "cell_type": "code",
   "execution_count": 29,
   "id": "d71be074",
   "metadata": {},
   "outputs": [
    {
     "name": "stdout",
     "output_type": "stream",
     "text": [
      "This is my decorator\n"
     ]
    },
    {
     "data": {
      "text/plain": [
       "'DhruvKumar'"
      ]
     },
     "execution_count": 29,
     "metadata": {},
     "output_type": "execute_result"
    }
   ],
   "source": [
    "test7(\"Dhruv\",\"Kumar\")"
   ]
  },
  {
   "cell_type": "code",
   "execution_count": 30,
   "id": "3259ae51",
   "metadata": {},
   "outputs": [],
   "source": [
    "@test5\n",
    "def test8(**kwargs):\n",
    "    return kwargs"
   ]
  },
  {
   "cell_type": "code",
   "execution_count": 31,
   "id": "91229b90",
   "metadata": {},
   "outputs": [
    {
     "name": "stdout",
     "output_type": "stream",
     "text": [
      "This is my decorator\n"
     ]
    },
    {
     "data": {
      "text/plain": [
       "{'a': 5, 'b': 67}"
      ]
     },
     "execution_count": 31,
     "metadata": {},
     "output_type": "execute_result"
    }
   ],
   "source": [
    "test8(a=5,b=67)"
   ]
  },
  {
   "cell_type": "markdown",
   "id": "fdca154c",
   "metadata": {},
   "source": [
    "# lambda function"
   ]
  },
  {
   "cell_type": "code",
   "execution_count": 32,
   "id": "8c8cbf90",
   "metadata": {},
   "outputs": [
    {
     "data": {
      "text/plain": [
       "9"
      ]
     },
     "execution_count": 32,
     "metadata": {},
     "output_type": "execute_result"
    }
   ],
   "source": [
    "def test9(a,b):\n",
    "    return a+b\n",
    "test9(5,4)"
   ]
  },
  {
   "cell_type": "code",
   "execution_count": 34,
   "id": "bb1cf672",
   "metadata": {},
   "outputs": [
    {
     "data": {
      "text/plain": [
       "<function __main__.test9(a, b)>"
      ]
     },
     "execution_count": 34,
     "metadata": {},
     "output_type": "execute_result"
    }
   ],
   "source": [
    "test9"
   ]
  },
  {
   "cell_type": "code",
   "execution_count": 35,
   "id": "29f50f2a",
   "metadata": {},
   "outputs": [],
   "source": [
    "c=lambda a,b:a+b"
   ]
  },
  {
   "cell_type": "code",
   "execution_count": 36,
   "id": "33e72d26",
   "metadata": {},
   "outputs": [
    {
     "data": {
      "text/plain": [
       "'DhruvCHauhan'"
      ]
     },
     "execution_count": 36,
     "metadata": {},
     "output_type": "execute_result"
    }
   ],
   "source": [
    "c(\"Dhruv\",\"CHauhan\")"
   ]
  },
  {
   "cell_type": "code",
   "execution_count": 39,
   "id": "ae35fae4",
   "metadata": {},
   "outputs": [],
   "source": [
    "d=lambda *args:args"
   ]
  },
  {
   "cell_type": "code",
   "execution_count": 43,
   "id": "2e7dd6ec",
   "metadata": {},
   "outputs": [
    {
     "name": "stdout",
     "output_type": "stream",
     "text": [
      "<class 'tuple'>\n",
      "('Kaun',)\n"
     ]
    }
   ],
   "source": [
    "print(type(d(\"kon\")))\n",
    "print(d(\"Kaun\"))"
   ]
  },
  {
   "cell_type": "markdown",
   "id": "20d24556",
   "metadata": {},
   "source": [
    "# MAP"
   ]
  },
  {
   "cell_type": "code",
   "execution_count": 45,
   "id": "d960014a",
   "metadata": {},
   "outputs": [
    {
     "name": "stdout",
     "output_type": "stream",
     "text": [
      "[11, 12, 13, 14, 15, 16, 17]\n"
     ]
    }
   ],
   "source": [
    "l=[1,2,3,4,5,6,7]\n",
    "b=[]\n",
    "for i in l:\n",
    "   b.append(i+10)\n",
    "print(b)"
   ]
  },
  {
   "cell_type": "markdown",
   "id": "205f453a",
   "metadata": {},
   "source": [
    "Increment by 10 in a list using mapping"
   ]
  },
  {
   "cell_type": "code",
   "execution_count": 47,
   "id": "386fccd4",
   "metadata": {},
   "outputs": [],
   "source": [
    "def test10(a):\n",
    "    return a+10"
   ]
  },
  {
   "cell_type": "code",
   "execution_count": 49,
   "id": "9cdf157e",
   "metadata": {},
   "outputs": [
    {
     "data": {
      "text/plain": [
       "[11, 12, 13, 14, 15, 16, 17]"
      ]
     },
     "execution_count": 49,
     "metadata": {},
     "output_type": "execute_result"
    }
   ],
   "source": [
    "list(map(test10,l))"
   ]
  },
  {
   "cell_type": "code",
   "execution_count": 50,
   "id": "4a4a6831",
   "metadata": {},
   "outputs": [
    {
     "data": {
      "text/plain": [
       "[11, 12, 13, 14, 15, 16, 17]"
      ]
     },
     "execution_count": 50,
     "metadata": {},
     "output_type": "execute_result"
    }
   ],
   "source": [
    "list(map(lambda a:a+10,l))"
   ]
  },
  {
   "cell_type": "code",
   "execution_count": 51,
   "id": "212d704c",
   "metadata": {},
   "outputs": [
    {
     "data": {
      "text/plain": [
       "[11, 12, 13, 14, 15, 16, 17]"
      ]
     },
     "execution_count": 51,
     "metadata": {},
     "output_type": "execute_result"
    }
   ],
   "source": [
    "n=lambda a:a+10\n",
    "list(map(n,l))"
   ]
  },
  {
   "cell_type": "markdown",
   "id": "fe3388a1",
   "metadata": {},
   "source": [
    "CONVERT A STRING INTO UPPER CASE"
   ]
  },
  {
   "cell_type": "code",
   "execution_count": 53,
   "id": "85706837",
   "metadata": {},
   "outputs": [
    {
     "data": {
      "text/plain": [
       "['DHRUV', 'CHAUHAN', 'INEURON']"
      ]
     },
     "execution_count": 53,
     "metadata": {},
     "output_type": "execute_result"
    }
   ],
   "source": [
    "l1=[\"Dhruv\",\"Chauhan\",\"ineuron\"]\n",
    "list(map(lambda a:a.upper(),l1))"
   ]
  },
  {
   "cell_type": "code",
   "execution_count": 55,
   "id": "5ad3566d",
   "metadata": {},
   "outputs": [
    {
     "data": {
      "text/plain": [
       "['DHRUV', 'CHAUHAN', 'INEURON']"
      ]
     },
     "execution_count": 55,
     "metadata": {},
     "output_type": "execute_result"
    }
   ],
   "source": [
    "list(map(str.upper,l1))"
   ]
  },
  {
   "cell_type": "markdown",
   "id": "fd5a18d4",
   "metadata": {},
   "source": [
    "PRINT LENGTH OF EACH STRING"
   ]
  },
  {
   "cell_type": "code",
   "execution_count": 4,
   "id": "baa4c42c",
   "metadata": {},
   "outputs": [
    {
     "ename": "TypeError",
     "evalue": "object of type 'int' has no len()",
     "output_type": "error",
     "traceback": [
      "\u001b[1;31m---------------------------------------------------------------------------\u001b[0m",
      "\u001b[1;31mTypeError\u001b[0m                                 Traceback (most recent call last)",
      "\u001b[1;32m~\\AppData\\Local\\Temp/ipykernel_7464/3971473177.py\u001b[0m in \u001b[0;36m<module>\u001b[1;34m\u001b[0m\n\u001b[1;32m----> 1\u001b[1;33m \u001b[0mlist\u001b[0m\u001b[1;33m(\u001b[0m\u001b[0mmap\u001b[0m\u001b[1;33m(\u001b[0m\u001b[1;32mlambda\u001b[0m \u001b[0ma\u001b[0m\u001b[1;33m:\u001b[0m\u001b[0mlen\u001b[0m\u001b[1;33m(\u001b[0m\u001b[0ma\u001b[0m\u001b[1;33m)\u001b[0m\u001b[1;33m,\u001b[0m\u001b[0ml1\u001b[0m\u001b[1;33m)\u001b[0m\u001b[1;33m)\u001b[0m\u001b[1;33m\u001b[0m\u001b[1;33m\u001b[0m\u001b[0m\n\u001b[0m",
      "\u001b[1;32m~\\AppData\\Local\\Temp/ipykernel_7464/3971473177.py\u001b[0m in \u001b[0;36m<lambda>\u001b[1;34m(a)\u001b[0m\n\u001b[1;32m----> 1\u001b[1;33m \u001b[0mlist\u001b[0m\u001b[1;33m(\u001b[0m\u001b[0mmap\u001b[0m\u001b[1;33m(\u001b[0m\u001b[1;32mlambda\u001b[0m \u001b[0ma\u001b[0m\u001b[1;33m:\u001b[0m\u001b[0mlen\u001b[0m\u001b[1;33m(\u001b[0m\u001b[0ma\u001b[0m\u001b[1;33m)\u001b[0m\u001b[1;33m,\u001b[0m\u001b[0ml1\u001b[0m\u001b[1;33m)\u001b[0m\u001b[1;33m)\u001b[0m\u001b[1;33m\u001b[0m\u001b[1;33m\u001b[0m\u001b[0m\n\u001b[0m",
      "\u001b[1;31mTypeError\u001b[0m: object of type 'int' has no len()"
     ]
    }
   ],
   "source": [
    "list(map(lambda a:len(a),l1))"
   ]
  },
  {
   "cell_type": "code",
   "execution_count": 60,
   "id": "c30a3f66",
   "metadata": {},
   "outputs": [
    {
     "data": {
      "text/plain": [
       "[5, 7, 7]"
      ]
     },
     "execution_count": 60,
     "metadata": {},
     "output_type": "execute_result"
    }
   ],
   "source": [
    "list(map(len,l1))"
   ]
  },
  {
   "cell_type": "markdown",
   "id": "fe9bfbe7",
   "metadata": {},
   "source": [
    "# FILTER FUNCTION"
   ]
  },
  {
   "cell_type": "code",
   "execution_count": 2,
   "id": "16efff0f",
   "metadata": {},
   "outputs": [
    {
     "data": {
      "text/plain": [
       "[2, 4, 6, 8]"
      ]
     },
     "execution_count": 2,
     "metadata": {},
     "output_type": "execute_result"
    }
   ],
   "source": [
    "l=[1,2,3,4,5,6,7,8]\n",
    "l1=[]\n",
    "def even(l):\n",
    "    for i in l:\n",
    "        if i%2==0:\n",
    "            l1.append(i)\n",
    "    return l1\n",
    "even(l)"
   ]
  },
  {
   "cell_type": "code",
   "execution_count": 3,
   "id": "9bb01bc7",
   "metadata": {},
   "outputs": [
    {
     "data": {
      "text/plain": [
       "[2, 4, 6, 8]"
      ]
     },
     "execution_count": 3,
     "metadata": {},
     "output_type": "execute_result"
    }
   ],
   "source": [
    "[i for i in l if i%2==0]"
   ]
  },
  {
   "cell_type": "code",
   "execution_count": 5,
   "id": "8fd528b6",
   "metadata": {},
   "outputs": [],
   "source": [
    "a=lambda a:a if a%2==0 else None"
   ]
  },
  {
   "cell_type": "code",
   "execution_count": 6,
   "id": "d00f769e",
   "metadata": {},
   "outputs": [
    {
     "data": {
      "text/plain": [
       "[2, 4, 6, 8]"
      ]
     },
     "execution_count": 6,
     "metadata": {},
     "output_type": "execute_result"
    }
   ],
   "source": [
    "list(filter(a,l))"
   ]
  },
  {
   "cell_type": "code",
   "execution_count": 7,
   "id": "a0f0679b",
   "metadata": {},
   "outputs": [],
   "source": [
    "def test11(a):\n",
    "    if a%2==0:\n",
    "        return True\n",
    "    else:\n",
    "        return False"
   ]
  },
  {
   "cell_type": "code",
   "execution_count": 8,
   "id": "a11a8f37",
   "metadata": {},
   "outputs": [
    {
     "data": {
      "text/plain": [
       "[2, 4, 6, 8]"
      ]
     },
     "execution_count": 8,
     "metadata": {},
     "output_type": "execute_result"
    }
   ],
   "source": [
    "list(filter(test11,l))"
   ]
  },
  {
   "cell_type": "markdown",
   "id": "5f14e40e",
   "metadata": {},
   "source": [
    "give me sum of a list"
   ]
  },
  {
   "cell_type": "code",
   "execution_count": 9,
   "id": "b0a961f2",
   "metadata": {},
   "outputs": [
    {
     "data": {
      "text/plain": [
       "36"
      ]
     },
     "execution_count": 9,
     "metadata": {},
     "output_type": "execute_result"
    }
   ],
   "source": [
    "sum(l)"
   ]
  },
  {
   "cell_type": "code",
   "execution_count": 10,
   "id": "b039c63f",
   "metadata": {},
   "outputs": [
    {
     "data": {
      "text/plain": [
       "40320"
      ]
     },
     "execution_count": 10,
     "metadata": {},
     "output_type": "execute_result"
    }
   ],
   "source": [
    "from functools import reduce\n",
    "reduce(lambda a,b:a*b,l)"
   ]
  },
  {
   "cell_type": "code",
   "execution_count": 3,
   "id": "aa2256cd",
   "metadata": {},
   "outputs": [
    {
     "data": {
      "text/plain": [
       "3"
      ]
     },
     "execution_count": 3,
     "metadata": {},
     "output_type": "execute_result"
    }
   ],
   "source": [
    "from functools import reduce\n",
    "l1=[3]\n",
    "reduce(lambda a,b:a*b,l1)"
   ]
  },
  {
   "cell_type": "markdown",
   "id": "79bc087f",
   "metadata": {},
   "source": [
    "# DOC STRING THINGS"
   ]
  },
  {
   "cell_type": "code",
   "execution_count": 6,
   "id": "91e2f6e4",
   "metadata": {},
   "outputs": [],
   "source": [
    "def test12(a:int,b:\"FUnction\",c=234) ->int:\n",
    "    \"\"\"This is my doc string to give a hint to next programmer\"\"\"\n",
    "    return a+b+str(c)"
   ]
  },
  {
   "cell_type": "code",
   "execution_count": 7,
   "id": "60e2b270",
   "metadata": {},
   "outputs": [
    {
     "data": {
      "text/plain": [
       "'Dhruvchauhan234'"
      ]
     },
     "execution_count": 7,
     "metadata": {},
     "output_type": "execute_result"
    }
   ],
   "source": [
    "test12(\"Dhruv\",'chauhan')"
   ]
  },
  {
   "cell_type": "code",
   "execution_count": null,
   "id": "61ef6f67",
   "metadata": {},
   "outputs": [],
   "source": []
  }
 ],
 "metadata": {
  "kernelspec": {
   "display_name": "Python 3 (ipykernel)",
   "language": "python",
   "name": "python3"
  },
  "language_info": {
   "codemirror_mode": {
    "name": "ipython",
    "version": 3
   },
   "file_extension": ".py",
   "mimetype": "text/x-python",
   "name": "python",
   "nbconvert_exporter": "python",
   "pygments_lexer": "ipython3",
   "version": "3.9.7"
  }
 },
 "nbformat": 4,
 "nbformat_minor": 5
}
