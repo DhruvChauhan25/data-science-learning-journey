{
 "cells": [
  {
   "cell_type": "markdown",
   "id": "54c43776",
   "metadata": {},
   "source": [
    "# Multi Assignment of variables "
   ]
  },
  {
   "cell_type": "code",
   "execution_count": 1,
   "id": "693ff3d3",
   "metadata": {},
   "outputs": [],
   "source": [
    "a,b,c=10,11.5,\"Dhruv\""
   ]
  },
  {
   "cell_type": "code",
   "execution_count": 2,
   "id": "46ec52e8",
   "metadata": {},
   "outputs": [
    {
     "name": "stdout",
     "output_type": "stream",
     "text": [
      "<class 'int'>\n",
      "<class 'float'>\n",
      "<class 'str'>\n"
     ]
    }
   ],
   "source": [
    "print(type(a))\n",
    "print(type(b))\n",
    "print(type(c))"
   ]
  },
  {
   "cell_type": "markdown",
   "id": "413296e3",
   "metadata": {},
   "source": [
    "# User Input"
   ]
  },
  {
   "cell_type": "code",
   "execution_count": 3,
   "id": "230a014e",
   "metadata": {},
   "outputs": [
    {
     "name": "stdout",
     "output_type": "stream",
     "text": [
      "enter your name: dhruv\n",
      "dhruv\n"
     ]
    }
   ],
   "source": [
    "name=input(\"enter your name: \")\n",
    "print(name)"
   ]
  },
  {
   "cell_type": "code",
   "execution_count": 4,
   "id": "a244a061",
   "metadata": {},
   "outputs": [
    {
     "name": "stdout",
     "output_type": "stream",
     "text": [
      "<class 'str'>\n",
      "<class 'int'>\n"
     ]
    }
   ],
   "source": [
    "a=\"50\"\n",
    "print(type(a))\n",
    "a=int(a)\n",
    "print(type(a))\n",
    "b=10\n"
   ]
  },
  {
   "cell_type": "markdown",
   "id": "25fddcc3",
   "metadata": {},
   "source": [
    "# Type conversion"
   ]
  },
  {
   "cell_type": "code",
   "execution_count": 9,
   "id": "534d2644",
   "metadata": {},
   "outputs": [
    {
     "name": "stdout",
     "output_type": "stream",
     "text": [
      "Enter a number 5\n",
      "<class 'int'>\n",
      "5\n"
     ]
    }
   ],
   "source": [
    "x=int(input(\"Enter a number \"))\n",
    "print(type(x))\n",
    "print(x)"
   ]
  },
  {
   "cell_type": "markdown",
   "id": "b0a593d9",
   "metadata": {},
   "source": [
    "##### "
   ]
  },
  {
   "cell_type": "code",
   "execution_count": 2,
   "id": "e9ff66c1",
   "metadata": {},
   "outputs": [
    {
     "name": "stdout",
     "output_type": "stream",
     "text": [
      "<class 'int'>\n",
      "10\n",
      "<class 'bool'>\n",
      "True\n"
     ]
    }
   ],
   "source": [
    "# INT TO BOOLEAN\n",
    "a=10\n",
    "print(type(a))\n",
    "print(a)\n",
    "a=bool(a)\n",
    "print(type(a))\n",
    "print(a)\n"
   ]
  },
  {
   "cell_type": "code",
   "execution_count": 4,
   "id": "97fe4dd0",
   "metadata": {},
   "outputs": [
    {
     "name": "stdout",
     "output_type": "stream",
     "text": [
      "<class 'str'>\n",
      "<class 'bool'>\n",
      "True\n"
     ]
    }
   ],
   "source": [
    "#STRING TO BOOLEAN\n",
    "a=\"Dhruv\"\n",
    "print(type(a))\n",
    "a=bool(a)\n",
    "print(type(a))\n",
    "print(a)"
   ]
  },
  {
   "cell_type": "markdown",
   "id": "4366be54",
   "metadata": {},
   "source": [
    "# MEMORY BLOCK"
   ]
  },
  {
   "cell_type": "code",
   "execution_count": 3,
   "id": "34db6110",
   "metadata": {},
   "outputs": [
    {
     "name": "stdout",
     "output_type": "stream",
     "text": [
      "2345720245136\n",
      "2345720245168\n",
      "2345720245136\n"
     ]
    }
   ],
   "source": [
    "a=20\n",
    "b=21\n",
    "c=20\n",
    "\n",
    "print(id(a)) #tell you the memory address\n",
    "print(id(b))\n",
    "print(id(c))"
   ]
  },
  {
   "cell_type": "code",
   "execution_count": null,
   "id": "6002d9fe",
   "metadata": {},
   "outputs": [],
   "source": []
  }
 ],
 "metadata": {
  "kernelspec": {
   "display_name": "Python 3 (ipykernel)",
   "language": "python",
   "name": "python3"
  },
  "language_info": {
   "codemirror_mode": {
    "name": "ipython",
    "version": 3
   },
   "file_extension": ".py",
   "mimetype": "text/x-python",
   "name": "python",
   "nbconvert_exporter": "python",
   "pygments_lexer": "ipython3",
   "version": "3.9.7"
  }
 },
 "nbformat": 4,
 "nbformat_minor": 5
}
