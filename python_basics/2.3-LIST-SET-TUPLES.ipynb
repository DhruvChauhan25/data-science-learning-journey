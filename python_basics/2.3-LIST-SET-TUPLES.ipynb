{
 "cells": [
  {
   "cell_type": "markdown",
   "id": "51f5bb6a",
   "metadata": {},
   "source": [
    "# NESTED OF THE LIST"
   ]
  },
  {
   "cell_type": "code",
   "execution_count": 1,
   "id": "82974bb6",
   "metadata": {},
   "outputs": [
    {
     "name": "stdout",
     "output_type": "stream",
     "text": [
      "[1, 2, 3]\n",
      "12\n"
     ]
    }
   ],
   "source": [
    "#LIST INSIDE A LIST\n",
    "A=[[1,2,3],[11,12,13],[14,0,9,]]\n",
    "print(A[0])\n",
    "print(A[1][1])"
   ]
  },
  {
   "cell_type": "code",
   "execution_count": 5,
   "id": "dd3eaca6",
   "metadata": {},
   "outputs": [
    {
     "name": "stdout",
     "output_type": "stream",
     "text": [
      "[11, 12, 13, [55, 100]]\n",
      "[55, 100]\n",
      "55\n"
     ]
    }
   ],
   "source": [
    "a=[[1,2,3],[11,12,13,[55,100]],[14,0,9,]]\n",
    "print(a[1])\n",
    "print(a[1][3])\n",
    "print(a[1][3][0])"
   ]
  },
  {
   "cell_type": "code",
   "execution_count": 8,
   "id": "c5434066",
   "metadata": {},
   "outputs": [
    {
     "name": "stdout",
     "output_type": "stream",
     "text": [
      "hii\n",
      "hii\n"
     ]
    }
   ],
   "source": [
    "a=[[1,2,3],[11,12,13,[55,100,'hii']],[14,0,9,]]\n",
    "print(a[1][3][2])\n",
    "print(a[-2][-1][-1])"
   ]
  },
  {
   "cell_type": "code",
   "execution_count": 10,
   "id": "06d4fc59",
   "metadata": {},
   "outputs": [
    {
     "name": "stdout",
     "output_type": "stream",
     "text": [
      "6800\n"
     ]
    }
   ],
   "source": [
    "amazon_cart=[['watch',5000],['phone',1000],['cell',800]]\n",
    "total_cost=0\n",
    "total_cost=amazon_cart[0][1]+amazon_cart[1][1]+amazon_cart[2][1]\n",
    "print(total_cost)"
   ]
  },
  {
   "cell_type": "code",
   "execution_count": 15,
   "id": "9839bd16",
   "metadata": {},
   "outputs": [
    {
     "name": "stdout",
     "output_type": "stream",
     "text": [
      "5000\n",
      "1000\n",
      "800\n",
      "6800\n"
     ]
    }
   ],
   "source": [
    "total=0\n",
    "for i in range(len(amazon_cart)):\n",
    "    print(amazon_cart[i][1])\n",
    "    total=total+amazon_cart[i][1]\n",
    "print(total)"
   ]
  },
  {
   "cell_type": "code",
   "execution_count": 16,
   "id": "238f82a9",
   "metadata": {},
   "outputs": [
    {
     "name": "stdout",
     "output_type": "stream",
     "text": [
      "5000\n",
      "1000\n",
      "800\n",
      "6800\n"
     ]
    }
   ],
   "source": [
    "total=0\n",
    "for i in amazon_cart:\n",
    "    print(i[1])\n",
    "    total=total+i[1]\n",
    "print(total)"
   ]
  },
  {
   "cell_type": "markdown",
   "id": "548a2f2f",
   "metadata": {},
   "source": [
    "# LIST COMPREHENSION"
   ]
  },
  {
   "cell_type": "code",
   "execution_count": 22,
   "id": "bc21fdba",
   "metadata": {},
   "outputs": [
    {
     "name": "stdout",
     "output_type": "stream",
     "text": [
      "[1, 4, 9, 16, 25, 36, 49, 64, 81, 100]\n"
     ]
    }
   ],
   "source": [
    "#Q-LIST WHICH CONTAINS LIST OF SQUARES OF NO'S B/W 1 TO 10\n",
    "\n",
    "A=[1,2,3,4,5,6,7,8,9,10]\n",
    "b=list();\n",
    "for i in A:\n",
    "    b.append(i**2)\n",
    "print(b)"
   ]
  },
  {
   "cell_type": "code",
   "execution_count": 23,
   "id": "cf12b526",
   "metadata": {},
   "outputs": [
    {
     "name": "stdout",
     "output_type": "stream",
     "text": [
      "[1, 4, 9, 16, 25, 36, 49, 64, 81, 100]\n"
     ]
    }
   ],
   "source": [
    "ans=[i**2 for i in A]\n",
    "print(ans)"
   ]
  },
  {
   "cell_type": "code",
   "execution_count": 24,
   "id": "636f10d0",
   "metadata": {},
   "outputs": [
    {
     "name": "stdout",
     "output_type": "stream",
     "text": [
      "[1, 9, 25, 49, 81]\n"
     ]
    }
   ],
   "source": [
    "#Q- ONLY TAKE THE SQUARE OF ODD NO IN THE LIST\n",
    "ans=list()\n",
    "for i in A:\n",
    "    if i%2!=0:\n",
    "        ans.append(i**2)\n",
    "print(ans)"
   ]
  },
  {
   "cell_type": "code",
   "execution_count": 26,
   "id": "cfe0d90d",
   "metadata": {},
   "outputs": [
    {
     "name": "stdout",
     "output_type": "stream",
     "text": [
      "[1, 9, 25, 49, 81]\n"
     ]
    }
   ],
   "source": [
    "ans=[i**2 for i in A if i%2!=0]\n",
    "print(ans)"
   ]
  },
  {
   "cell_type": "markdown",
   "id": "7f9976e7",
   "metadata": {},
   "source": [
    "# COUNT"
   ]
  },
  {
   "cell_type": "code",
   "execution_count": 27,
   "id": "d8184e03",
   "metadata": {},
   "outputs": [
    {
     "name": "stdout",
     "output_type": "stream",
     "text": [
      "3\n"
     ]
    }
   ],
   "source": [
    "a=[1,2,3,4,3,5,1,3,1]\n",
    "print(a.count(1))\n"
   ]
  },
  {
   "cell_type": "code",
   "execution_count": 29,
   "id": "e765b895",
   "metadata": {},
   "outputs": [
    {
     "name": "stdout",
     "output_type": "stream",
     "text": [
      "2\n"
     ]
    }
   ],
   "source": [
    "a=[1,2,3,4,3,5,[7,7],[7,7],1,3,1]\n",
    "print(a.count([7,7]))"
   ]
  },
  {
   "cell_type": "code",
   "execution_count": 30,
   "id": "cd88919c",
   "metadata": {},
   "outputs": [
    {
     "name": "stdout",
     "output_type": "stream",
     "text": [
      "1 3\n",
      "2 1\n",
      "3 3\n",
      "4 1\n",
      "3 3\n",
      "5 1\n",
      "1 3\n",
      "3 3\n",
      "1 3\n"
     ]
    }
   ],
   "source": [
    "b=[1,2,3,4,3,5,1,3,1]\n",
    "for i in b:\n",
    "    print(i,b.count(i))"
   ]
  },
  {
   "cell_type": "code",
   "execution_count": 31,
   "id": "bf205fff",
   "metadata": {},
   "outputs": [
    {
     "name": "stdout",
     "output_type": "stream",
     "text": [
      "D 1\n",
      "h 1\n",
      "r 1\n",
      "u 1\n",
      "v 1\n"
     ]
    }
   ],
   "source": [
    "a='Dhruv'\n",
    "for i in a:\n",
    "    print(i,a.count(i))"
   ]
  },
  {
   "cell_type": "markdown",
   "id": "10d974b8",
   "metadata": {},
   "source": [
    "EXTEND METHOD"
   ]
  },
  {
   "cell_type": "code",
   "execution_count": 33,
   "id": "b6da7682",
   "metadata": {},
   "outputs": [
    {
     "name": "stdout",
     "output_type": "stream",
     "text": [
      "[1, 2, 3, 11, 22, 33]\n"
     ]
    }
   ],
   "source": [
    "A=[1,2,3]\n",
    "B=[11,22,33]\n",
    "A.extend(B) #permanent operation,inplace assignment\n",
    "print(A)"
   ]
  },
  {
   "cell_type": "markdown",
   "id": "189f0f0c",
   "metadata": {},
   "source": [
    "INDEX METHOD"
   ]
  },
  {
   "cell_type": "code",
   "execution_count": 34,
   "id": "692e807a",
   "metadata": {},
   "outputs": [
    {
     "name": "stdout",
     "output_type": "stream",
     "text": [
      "5\n"
     ]
    }
   ],
   "source": [
    "A=[1,2,3,4,56,'Dhruv',1+2j]\n",
    "print(A.index('Dhruv'))"
   ]
  },
  {
   "cell_type": "code",
   "execution_count": 35,
   "id": "a659450e",
   "metadata": {},
   "outputs": [
    {
     "name": "stdout",
     "output_type": "stream",
     "text": [
      "4\n",
      "6\n"
     ]
    }
   ],
   "source": [
    "#Q- what is the index of complex number\n",
    "A=[1,2,3,4,56+2j,'Dhruv',1+2j]\n",
    "for i in range(len(A)):\n",
    "    if type(A[i])==complex:\n",
    "        print(i)"
   ]
  },
  {
   "cell_type": "code",
   "execution_count": 58,
   "id": "86b87cc7",
   "metadata": {},
   "outputs": [
    {
     "name": "stdout",
     "output_type": "stream",
     "text": [
      "2\n"
     ]
    }
   ],
   "source": [
    "A=[1,2,3,4,56,'Dhruv',1+2j,3,3] #duplicate elements\n",
    "print(A.index(3))"
   ]
  },
  {
   "cell_type": "code",
   "execution_count": 59,
   "id": "fa8544ee",
   "metadata": {},
   "outputs": [
    {
     "name": "stdout",
     "output_type": "stream",
     "text": [
      "0\n"
     ]
    }
   ],
   "source": [
    "A=[1,2,3,4,56,[45,55],'Dhruv',1+2j]\n",
    "print(A[5].index(45))"
   ]
  },
  {
   "cell_type": "markdown",
   "id": "94def47b",
   "metadata": {},
   "source": [
    " INSTANCE METHOD"
   ]
  },
  {
   "cell_type": "code",
   "execution_count": 36,
   "id": "3f679eb1",
   "metadata": {},
   "outputs": [
    {
     "name": "stdout",
     "output_type": "stream",
     "text": [
      "4\n",
      "6\n"
     ]
    }
   ],
   "source": [
    "#Approach 2\n",
    "for i in A:\n",
    "    if isinstance(i,complex):\n",
    "        print(A.index(i))"
   ]
  },
  {
   "cell_type": "code",
   "execution_count": 53,
   "id": "db4fe100",
   "metadata": {
    "scrolled": true
   },
   "outputs": [
    {
     "name": "stdout",
     "output_type": "stream",
     "text": [
      "<class 'str'>\n",
      "0\n",
      "1\n",
      "2\n",
      "3\n",
      "4\n",
      "6\n"
     ]
    }
   ],
   "source": [
    "#Q-print the index all the complex and integer\n",
    "A=[1,2,3,4,56+2j,'Dhruv',1+2j]\n",
    "print(type(A[5]))\n",
    "for i in A:\n",
    "    if type(i)== int or type(i)==complex:\n",
    "        print(A.index(i))"
   ]
  },
  {
   "cell_type": "code",
   "execution_count": 56,
   "id": "5fcb3cde",
   "metadata": {},
   "outputs": [
    {
     "name": "stdout",
     "output_type": "stream",
     "text": [
      "0\n",
      "1\n",
      "2\n",
      "3\n",
      "4\n",
      "6\n"
     ]
    }
   ],
   "source": [
    "#approach 2\n",
    "for i in A:\n",
    "    if isinstance(i,(complex,int)):\n",
    "        print(A.index(i))"
   ]
  },
  {
   "cell_type": "markdown",
   "id": "a3bf4b91",
   "metadata": {},
   "source": [
    "INSERT"
   ]
  },
  {
   "cell_type": "code",
   "execution_count": 60,
   "id": "ced866ab",
   "metadata": {},
   "outputs": [
    {
     "name": "stdout",
     "output_type": "stream",
     "text": [
      "[1, 2, 'Dhruv', 3, 4, 5]\n"
     ]
    }
   ],
   "source": [
    "A=[1,2,3,4,5]\n",
    "A.insert(2,'Dhruv')\n",
    "print(A)"
   ]
  },
  {
   "cell_type": "markdown",
   "id": "7cfae5fb",
   "metadata": {},
   "source": [
    "REMOVE"
   ]
  },
  {
   "cell_type": "code",
   "execution_count": 61,
   "id": "1c6e4df1",
   "metadata": {},
   "outputs": [
    {
     "name": "stdout",
     "output_type": "stream",
     "text": [
      "[1, 2, 3, 4, 5]\n"
     ]
    }
   ],
   "source": [
    "A=[1,2,455,3,4,5]\n",
    "A.remove(455)\n",
    "print(A)"
   ]
  },
  {
   "cell_type": "code",
   "execution_count": 63,
   "id": "5767dcef",
   "metadata": {},
   "outputs": [
    {
     "name": "stdout",
     "output_type": "stream",
     "text": [
      "[1, 2, 3, 5]\n"
     ]
    }
   ],
   "source": []
  },
  {
   "cell_type": "markdown",
   "id": "d22be96c",
   "metadata": {},
   "source": [
    "# TUPLES"
   ]
  },
  {
   "cell_type": "code",
   "execution_count": 87,
   "id": "db3b44ce",
   "metadata": {},
   "outputs": [
    {
     "name": "stdout",
     "output_type": "stream",
     "text": [
      "<class 'tuple'>\n"
     ]
    }
   ],
   "source": [
    "A=(1,2,3)\n",
    "print(type(A))"
   ]
  },
  {
   "cell_type": "code",
   "execution_count": 69,
   "id": "9de49c03",
   "metadata": {},
   "outputs": [
    {
     "name": "stdout",
     "output_type": "stream",
     "text": [
      "<class 'list'>\n",
      "4\n"
     ]
    }
   ],
   "source": [
    "a=(22,12,34,1)\n",
    "b=sorted(a)\n",
    "print(type(b))\n",
    "print(len(a))\n"
   ]
  },
  {
   "cell_type": "code",
   "execution_count": 70,
   "id": "f965df30",
   "metadata": {},
   "outputs": [
    {
     "name": "stdout",
     "output_type": "stream",
     "text": [
      "34\n",
      "2\n"
     ]
    }
   ],
   "source": [
    "print(max(a))\n",
    "print(a.index(34))"
   ]
  },
  {
   "cell_type": "code",
   "execution_count": 8,
   "id": "d14aeb69",
   "metadata": {},
   "outputs": [
    {
     "name": "stdout",
     "output_type": "stream",
     "text": [
      "How many item you want to purchase2\n",
      "enter a itemphone\n",
      "enter a itemlaptop\n",
      "7000\n"
     ]
    }
   ],
   "source": [
    "# user what they want to purchase\n",
    "amazon_website=[('watch',1000),('phone',3000),('laptop',4000),('shirt',220)]\n",
    "cost=0\n",
    "n=int(input(\"How many item you want to purchase\"))\n",
    "for i in range(0,n):\n",
    "    user=input(\"enter a item\")\n",
    "    for i in amazon_website:\n",
    "        if i[0] == user:\n",
    "            cost=cost+i[1]\n",
    "print(cost)"
   ]
  },
  {
   "cell_type": "markdown",
   "id": "7d4bc36f",
   "metadata": {},
   "source": [
    "# SETS "
   ]
  },
  {
   "cell_type": "code",
   "execution_count": 2,
   "id": "0c1bb03d",
   "metadata": {},
   "outputs": [
    {
     "name": "stdout",
     "output_type": "stream",
     "text": [
      "<class 'set'>\n"
     ]
    }
   ],
   "source": [
    "X={1,2,3,4,5}\n",
    "#empty set\n",
    "a=set()\n",
    "print(type(a))"
   ]
  },
  {
   "cell_type": "code",
   "execution_count": 3,
   "id": "b9596784",
   "metadata": {},
   "outputs": [
    {
     "name": "stdout",
     "output_type": "stream",
     "text": [
      "{1, 2, 3, 4, 5, 99}\n"
     ]
    }
   ],
   "source": [
    "X.add(99)\n",
    "print(X)"
   ]
  },
  {
   "cell_type": "code",
   "execution_count": 4,
   "id": "bf8c39b5",
   "metadata": {},
   "outputs": [
    {
     "name": "stdout",
     "output_type": "stream",
     "text": [
      "[1, 2, 3, 4]\n"
     ]
    }
   ],
   "source": [
    "a=[1,2,3,3,4,4]\n",
    "a=set(a)\n",
    "a=list(a)\n",
    "print(a)"
   ]
  },
  {
   "cell_type": "code",
   "execution_count": null,
   "id": "f23615d1",
   "metadata": {},
   "outputs": [],
   "source": []
  }
 ],
 "metadata": {
  "kernelspec": {
   "display_name": "Python 3 (ipykernel)",
   "language": "python",
   "name": "python3"
  },
  "language_info": {
   "codemirror_mode": {
    "name": "ipython",
    "version": 3
   },
   "file_extension": ".py",
   "mimetype": "text/x-python",
   "name": "python",
   "nbconvert_exporter": "python",
   "pygments_lexer": "ipython3",
   "version": "3.9.7"
  }
 },
 "nbformat": 4,
 "nbformat_minor": 5
}
